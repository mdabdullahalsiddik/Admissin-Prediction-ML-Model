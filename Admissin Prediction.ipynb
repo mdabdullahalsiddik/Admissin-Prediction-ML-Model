{
 "cells": [
  {
   "cell_type": "code",
   "execution_count": 1,
   "id": "ecc40ccc",
   "metadata": {},
   "outputs": [],
   "source": [
    "#import library\n",
    "#get warnings unnecessary item not show\n",
    "import warnings\n",
    "warnings.filterwarnings(\"ignore\")\n",
    "import pandas as pd\n",
    "import matplotlib.pyplot as plt\n",
    "import seaborn as sns\n",
    "import numpy as np"
   ]
  },
  {
   "cell_type": "code",
   "execution_count": 2,
   "id": "3dc49a4e",
   "metadata": {},
   "outputs": [],
   "source": [
    "#import dataset\n",
    "df = pd.read_csv(\"Admission_Predict.csv\")"
   ]
  },
  {
   "cell_type": "code",
   "execution_count": 3,
   "id": "31214e18",
   "metadata": {},
   "outputs": [
    {
     "data": {
      "text/html": [
       "<div>\n",
       "<style scoped>\n",
       "    .dataframe tbody tr th:only-of-type {\n",
       "        vertical-align: middle;\n",
       "    }\n",
       "\n",
       "    .dataframe tbody tr th {\n",
       "        vertical-align: top;\n",
       "    }\n",
       "\n",
       "    .dataframe thead th {\n",
       "        text-align: right;\n",
       "    }\n",
       "</style>\n",
       "<table border=\"1\" class=\"dataframe\">\n",
       "  <thead>\n",
       "    <tr style=\"text-align: right;\">\n",
       "      <th></th>\n",
       "      <th>Serial No.</th>\n",
       "      <th>GRE Score</th>\n",
       "      <th>TOEFL Score</th>\n",
       "      <th>University Rating</th>\n",
       "      <th>SOP</th>\n",
       "      <th>LOR</th>\n",
       "      <th>CGPA</th>\n",
       "      <th>Research</th>\n",
       "      <th>Chance of Admit</th>\n",
       "    </tr>\n",
       "  </thead>\n",
       "  <tbody>\n",
       "    <tr>\n",
       "      <th>0</th>\n",
       "      <td>1</td>\n",
       "      <td>337</td>\n",
       "      <td>118</td>\n",
       "      <td>4</td>\n",
       "      <td>4.5</td>\n",
       "      <td>4.5</td>\n",
       "      <td>9.65</td>\n",
       "      <td>1</td>\n",
       "      <td>0.92</td>\n",
       "    </tr>\n",
       "    <tr>\n",
       "      <th>1</th>\n",
       "      <td>2</td>\n",
       "      <td>324</td>\n",
       "      <td>107</td>\n",
       "      <td>4</td>\n",
       "      <td>4.0</td>\n",
       "      <td>4.5</td>\n",
       "      <td>8.87</td>\n",
       "      <td>1</td>\n",
       "      <td>0.76</td>\n",
       "    </tr>\n",
       "    <tr>\n",
       "      <th>2</th>\n",
       "      <td>3</td>\n",
       "      <td>316</td>\n",
       "      <td>104</td>\n",
       "      <td>3</td>\n",
       "      <td>3.0</td>\n",
       "      <td>3.5</td>\n",
       "      <td>8.00</td>\n",
       "      <td>1</td>\n",
       "      <td>0.72</td>\n",
       "    </tr>\n",
       "    <tr>\n",
       "      <th>3</th>\n",
       "      <td>4</td>\n",
       "      <td>322</td>\n",
       "      <td>110</td>\n",
       "      <td>3</td>\n",
       "      <td>3.5</td>\n",
       "      <td>2.5</td>\n",
       "      <td>8.67</td>\n",
       "      <td>1</td>\n",
       "      <td>0.80</td>\n",
       "    </tr>\n",
       "    <tr>\n",
       "      <th>4</th>\n",
       "      <td>5</td>\n",
       "      <td>314</td>\n",
       "      <td>103</td>\n",
       "      <td>2</td>\n",
       "      <td>2.0</td>\n",
       "      <td>3.0</td>\n",
       "      <td>8.21</td>\n",
       "      <td>0</td>\n",
       "      <td>0.65</td>\n",
       "    </tr>\n",
       "  </tbody>\n",
       "</table>\n",
       "</div>"
      ],
      "text/plain": [
       "   Serial No.  GRE Score  TOEFL Score  University Rating  SOP  LOR   CGPA  \\\n",
       "0           1        337          118                  4  4.5   4.5  9.65   \n",
       "1           2        324          107                  4  4.0   4.5  8.87   \n",
       "2           3        316          104                  3  3.0   3.5  8.00   \n",
       "3           4        322          110                  3  3.5   2.5  8.67   \n",
       "4           5        314          103                  2  2.0   3.0  8.21   \n",
       "\n",
       "   Research  Chance of Admit   \n",
       "0         1              0.92  \n",
       "1         1              0.76  \n",
       "2         1              0.72  \n",
       "3         1              0.80  \n",
       "4         0              0.65  "
      ]
     },
     "execution_count": 3,
     "metadata": {},
     "output_type": "execute_result"
    }
   ],
   "source": [
    "# 1st 5row show in dataset\n",
    "df.head()"
   ]
  },
  {
   "cell_type": "code",
   "execution_count": 4,
   "id": "157a4d37",
   "metadata": {},
   "outputs": [
    {
     "name": "stdout",
     "output_type": "stream",
     "text": [
      "<class 'pandas.core.frame.DataFrame'>\n",
      "RangeIndex: 400 entries, 0 to 399\n",
      "Data columns (total 9 columns):\n",
      " #   Column             Non-Null Count  Dtype  \n",
      "---  ------             --------------  -----  \n",
      " 0   Serial No.         400 non-null    int64  \n",
      " 1   GRE Score          400 non-null    int64  \n",
      " 2   TOEFL Score        400 non-null    int64  \n",
      " 3   University Rating  400 non-null    int64  \n",
      " 4   SOP                400 non-null    float64\n",
      " 5   LOR                400 non-null    float64\n",
      " 6   CGPA               400 non-null    float64\n",
      " 7   Research           400 non-null    int64  \n",
      " 8   Chance of Admit    400 non-null    float64\n",
      "dtypes: float64(4), int64(5)\n",
      "memory usage: 28.2 KB\n"
     ]
    }
   ],
   "source": [
    "# dataset all information\n",
    "df.info()"
   ]
  },
  {
   "cell_type": "code",
   "execution_count": 5,
   "id": "efeb5d6d",
   "metadata": {},
   "outputs": [
    {
     "data": {
      "text/plain": [
       "(400, 9)"
      ]
     },
     "execution_count": 5,
     "metadata": {},
     "output_type": "execute_result"
    }
   ],
   "source": [
    "# dataset size\n",
    "df.shape"
   ]
  },
  {
   "cell_type": "code",
   "execution_count": 6,
   "id": "3c3a6ea3",
   "metadata": {},
   "outputs": [],
   "source": [
    "# delete Serial No column in dataset\n",
    "df.drop(\"Serial No.\",axis=1,inplace=True)"
   ]
  },
  {
   "cell_type": "code",
   "execution_count": 7,
   "id": "74c8c454",
   "metadata": {},
   "outputs": [
    {
     "data": {
      "text/html": [
       "<div>\n",
       "<style scoped>\n",
       "    .dataframe tbody tr th:only-of-type {\n",
       "        vertical-align: middle;\n",
       "    }\n",
       "\n",
       "    .dataframe tbody tr th {\n",
       "        vertical-align: top;\n",
       "    }\n",
       "\n",
       "    .dataframe thead th {\n",
       "        text-align: right;\n",
       "    }\n",
       "</style>\n",
       "<table border=\"1\" class=\"dataframe\">\n",
       "  <thead>\n",
       "    <tr style=\"text-align: right;\">\n",
       "      <th></th>\n",
       "      <th>GRE Score</th>\n",
       "      <th>TOEFL Score</th>\n",
       "      <th>University Rating</th>\n",
       "      <th>SOP</th>\n",
       "      <th>LOR</th>\n",
       "      <th>CGPA</th>\n",
       "      <th>Research</th>\n",
       "      <th>Chance of Admit</th>\n",
       "    </tr>\n",
       "  </thead>\n",
       "  <tbody>\n",
       "    <tr>\n",
       "      <th>0</th>\n",
       "      <td>337</td>\n",
       "      <td>118</td>\n",
       "      <td>4</td>\n",
       "      <td>4.5</td>\n",
       "      <td>4.5</td>\n",
       "      <td>9.65</td>\n",
       "      <td>1</td>\n",
       "      <td>0.92</td>\n",
       "    </tr>\n",
       "    <tr>\n",
       "      <th>1</th>\n",
       "      <td>324</td>\n",
       "      <td>107</td>\n",
       "      <td>4</td>\n",
       "      <td>4.0</td>\n",
       "      <td>4.5</td>\n",
       "      <td>8.87</td>\n",
       "      <td>1</td>\n",
       "      <td>0.76</td>\n",
       "    </tr>\n",
       "    <tr>\n",
       "      <th>2</th>\n",
       "      <td>316</td>\n",
       "      <td>104</td>\n",
       "      <td>3</td>\n",
       "      <td>3.0</td>\n",
       "      <td>3.5</td>\n",
       "      <td>8.00</td>\n",
       "      <td>1</td>\n",
       "      <td>0.72</td>\n",
       "    </tr>\n",
       "    <tr>\n",
       "      <th>3</th>\n",
       "      <td>322</td>\n",
       "      <td>110</td>\n",
       "      <td>3</td>\n",
       "      <td>3.5</td>\n",
       "      <td>2.5</td>\n",
       "      <td>8.67</td>\n",
       "      <td>1</td>\n",
       "      <td>0.80</td>\n",
       "    </tr>\n",
       "    <tr>\n",
       "      <th>4</th>\n",
       "      <td>314</td>\n",
       "      <td>103</td>\n",
       "      <td>2</td>\n",
       "      <td>2.0</td>\n",
       "      <td>3.0</td>\n",
       "      <td>8.21</td>\n",
       "      <td>0</td>\n",
       "      <td>0.65</td>\n",
       "    </tr>\n",
       "  </tbody>\n",
       "</table>\n",
       "</div>"
      ],
      "text/plain": [
       "   GRE Score  TOEFL Score  University Rating  SOP  LOR   CGPA  Research  \\\n",
       "0        337          118                  4  4.5   4.5  9.65         1   \n",
       "1        324          107                  4  4.0   4.5  8.87         1   \n",
       "2        316          104                  3  3.0   3.5  8.00         1   \n",
       "3        322          110                  3  3.5   2.5  8.67         1   \n",
       "4        314          103                  2  2.0   3.0  8.21         0   \n",
       "\n",
       "   Chance of Admit   \n",
       "0              0.92  \n",
       "1              0.76  \n",
       "2              0.72  \n",
       "3              0.80  \n",
       "4              0.65  "
      ]
     },
     "execution_count": 7,
     "metadata": {},
     "output_type": "execute_result"
    }
   ],
   "source": [
    "# 1st 5row show in dataset\n",
    "df.head()"
   ]
  },
  {
   "cell_type": "code",
   "execution_count": 8,
   "id": "9dd85c56",
   "metadata": {},
   "outputs": [
    {
     "data": {
      "text/plain": [
       "Index(['GRE Score', 'TOEFL Score', 'University Rating', 'SOP', 'LOR ', 'CGPA',\n",
       "       'Research', 'Chance of Admit '],\n",
       "      dtype='object')"
      ]
     },
     "execution_count": 8,
     "metadata": {},
     "output_type": "execute_result"
    }
   ],
   "source": [
    "# dataset all columns name\n",
    "df.columns"
   ]
  },
  {
   "cell_type": "code",
   "execution_count": 9,
   "id": "d9df9f4e",
   "metadata": {},
   "outputs": [
    {
     "data": {
      "image/png": "[encoded data removed]",
      "text/plain": [
       "<Figure size 1500x500 with 1 Axes>"
      ]
     },
     "metadata": {},
     "output_type": "display_data"
    }
   ],
   "source": [
    "# create a figure with size 15x5 inches \n",
    "plt.figure(figsize=(15,5))\n",
    "#dataset bar chart\n",
    "plt.bar(x = df.columns,height=df.sum())\n",
    "# bar chart title name\n",
    "plt.title(\"University Admissin Data\",color = \"green\")\n",
    "# bar chart x axis name\n",
    "plt.xlabel(\"Admissin Data\",color = \"green\")\n",
    "# bar chart y axis name\n",
    "plt.ylabel(\"count\",color = \"green\")\n",
    "plt.show()"
   ]
  },
  {
   "cell_type": "code",
   "execution_count": 10,
   "id": "d761ffad",
   "metadata": {},
   "outputs": [
    {
     "data": {
      "image/png": "[encoded data removed]",
      "text/plain": [
       "<Figure size 2000x500 with 1 Axes>"
      ]
     },
     "metadata": {},
     "output_type": "display_data"
    }
   ],
   "source": [
    "# create a figure with size 20x5 inches \n",
    "plt.figure(figsize=(20,5))\n",
    "#dGRE Score bar chart\n",
    "sns.countplot(\"GRE Score\",data=df)\n",
    "plt.show()"
   ]
  },
  {
   "cell_type": "code",
   "execution_count": 11,
   "id": "0f7888b8",
   "metadata": {},
   "outputs": [
    {
     "data": {
      "image/png": "[encoded data removed]",
      "text/plain": [
       "<Figure size 2000x500 with 1 Axes>"
      ]
     },
     "metadata": {},
     "output_type": "display_data"
    }
   ],
   "source": [
    "# create a figure with size 20x5 inches \n",
    "plt.figure(figsize=(20,5))\n",
    "# TOEFL Score bar chart\n",
    "sns.countplot(\"TOEFL Score\",data=df)\n",
    "plt.show()"
   ]
  },
  {
   "cell_type": "code",
   "execution_count": 12,
   "id": "7327f505",
   "metadata": {},
   "outputs": [
    {
     "data": {
      "image/png": "[encoded data removed]",
      "text/plain": [
       "<Figure size 2000x500 with 1 Axes>"
      ]
     },
     "metadata": {},
     "output_type": "display_data"
    }
   ],
   "source": [
    "# create a figure with size 20x5 inches \n",
    "plt.figure(figsize=(20,5))\n",
    "# University Rating bar chart\n",
    "sns.countplot(\"University Rating\",data=df)\n",
    "plt.show()"
   ]
  },
  {
   "cell_type": "code",
   "execution_count": 13,
   "id": "49d08278",
   "metadata": {},
   "outputs": [
    {
     "data": {
      "image/png": "[encoded data removed]",
      "text/plain": [
       "<Figure size 2000x500 with 1 Axes>"
      ]
     },
     "metadata": {},
     "output_type": "display_data"
    }
   ],
   "source": [
    "# create a figure with size 20x5 inches \n",
    "plt.figure(figsize=(20,5))\n",
    "# SOP bar chart\n",
    "sns.countplot(\"SOP\",data=df)\n",
    "plt.show()"
   ]
  },
  {
   "cell_type": "code",
   "execution_count": 14,
   "id": "81e7c4eb",
   "metadata": {},
   "outputs": [
    {
     "data": {
      "image/png": "[encoded data removed]",
      "text/plain": [
       "<Figure size 7000x2000 with 1 Axes>"
      ]
     },
     "metadata": {},
     "output_type": "display_data"
    }
   ],
   "source": [
    "# create a figure with size 70x20 inches \n",
    "plt.figure(figsize=(70,20))\n",
    "# CGPA bar chart\n",
    "sns.countplot(x = \"CGPA\",data=df)\n",
    "plt.show()"
   ]
  },
  {
   "cell_type": "code",
   "execution_count": 15,
   "id": "5f6a42a3",
   "metadata": {},
   "outputs": [
    {
     "data": {
      "image/png": "[encoded data removed]",
      "text/plain": [
       "<Figure size 500x500 with 1 Axes>"
      ]
     },
     "metadata": {},
     "output_type": "display_data"
    }
   ],
   "source": [
    "# create a figure with size 5x5 inches \n",
    "plt.figure(figsize=(5,5))\n",
    "#Research bar chart\n",
    "sns.countplot(\"Research\",data=df)\n",
    "plt.show()"
   ]
  },
  {
   "cell_type": "code",
   "execution_count": 16,
   "id": "ef294e51",
   "metadata": {},
   "outputs": [
    {
     "data": {
      "text/html": [
       "<div>\n",
       "<style scoped>\n",
       "    .dataframe tbody tr th:only-of-type {\n",
       "        vertical-align: middle;\n",
       "    }\n",
       "\n",
       "    .dataframe tbody tr th {\n",
       "        vertical-align: top;\n",
       "    }\n",
       "\n",
       "    .dataframe thead th {\n",
       "        text-align: right;\n",
       "    }\n",
       "</style>\n",
       "<table border=\"1\" class=\"dataframe\">\n",
       "  <thead>\n",
       "    <tr style=\"text-align: right;\">\n",
       "      <th></th>\n",
       "      <th>GRE Score</th>\n",
       "      <th>TOEFL Score</th>\n",
       "      <th>University Rating</th>\n",
       "      <th>SOP</th>\n",
       "      <th>LOR</th>\n",
       "      <th>CGPA</th>\n",
       "      <th>Research</th>\n",
       "      <th>Chance of Admit</th>\n",
       "    </tr>\n",
       "  </thead>\n",
       "  <tbody>\n",
       "    <tr>\n",
       "      <th>count</th>\n",
       "      <td>400.000000</td>\n",
       "      <td>400.000000</td>\n",
       "      <td>400.000000</td>\n",
       "      <td>400.000000</td>\n",
       "      <td>400.000000</td>\n",
       "      <td>400.000000</td>\n",
       "      <td>400.000000</td>\n",
       "      <td>400.000000</td>\n",
       "    </tr>\n",
       "    <tr>\n",
       "      <th>mean</th>\n",
       "      <td>316.807500</td>\n",
       "      <td>107.410000</td>\n",
       "      <td>3.087500</td>\n",
       "      <td>3.400000</td>\n",
       "      <td>3.452500</td>\n",
       "      <td>8.598925</td>\n",
       "      <td>0.547500</td>\n",
       "      <td>0.724350</td>\n",
       "    </tr>\n",
       "    <tr>\n",
       "      <th>std</th>\n",
       "      <td>11.473646</td>\n",
       "      <td>6.069514</td>\n",
       "      <td>1.143728</td>\n",
       "      <td>1.006869</td>\n",
       "      <td>0.898478</td>\n",
       "      <td>0.596317</td>\n",
       "      <td>0.498362</td>\n",
       "      <td>0.142609</td>\n",
       "    </tr>\n",
       "    <tr>\n",
       "      <th>min</th>\n",
       "      <td>290.000000</td>\n",
       "      <td>92.000000</td>\n",
       "      <td>1.000000</td>\n",
       "      <td>1.000000</td>\n",
       "      <td>1.000000</td>\n",
       "      <td>6.800000</td>\n",
       "      <td>0.000000</td>\n",
       "      <td>0.340000</td>\n",
       "    </tr>\n",
       "    <tr>\n",
       "      <th>25%</th>\n",
       "      <td>308.000000</td>\n",
       "      <td>103.000000</td>\n",
       "      <td>2.000000</td>\n",
       "      <td>2.500000</td>\n",
       "      <td>3.000000</td>\n",
       "      <td>8.170000</td>\n",
       "      <td>0.000000</td>\n",
       "      <td>0.640000</td>\n",
       "    </tr>\n",
       "    <tr>\n",
       "      <th>50%</th>\n",
       "      <td>317.000000</td>\n",
       "      <td>107.000000</td>\n",
       "      <td>3.000000</td>\n",
       "      <td>3.500000</td>\n",
       "      <td>3.500000</td>\n",
       "      <td>8.610000</td>\n",
       "      <td>1.000000</td>\n",
       "      <td>0.730000</td>\n",
       "    </tr>\n",
       "    <tr>\n",
       "      <th>75%</th>\n",
       "      <td>325.000000</td>\n",
       "      <td>112.000000</td>\n",
       "      <td>4.000000</td>\n",
       "      <td>4.000000</td>\n",
       "      <td>4.000000</td>\n",
       "      <td>9.062500</td>\n",
       "      <td>1.000000</td>\n",
       "      <td>0.830000</td>\n",
       "    </tr>\n",
       "    <tr>\n",
       "      <th>max</th>\n",
       "      <td>340.000000</td>\n",
       "      <td>120.000000</td>\n",
       "      <td>5.000000</td>\n",
       "      <td>5.000000</td>\n",
       "      <td>5.000000</td>\n",
       "      <td>9.920000</td>\n",
       "      <td>1.000000</td>\n",
       "      <td>0.970000</td>\n",
       "    </tr>\n",
       "  </tbody>\n",
       "</table>\n",
       "</div>"
      ],
      "text/plain": [
       "        GRE Score  TOEFL Score  University Rating         SOP        LOR   \\\n",
       "count  400.000000   400.000000         400.000000  400.000000  400.000000   \n",
       "mean   316.807500   107.410000           3.087500    3.400000    3.452500   \n",
       "std     11.473646     6.069514           1.143728    1.006869    0.898478   \n",
       "min    290.000000    92.000000           1.000000    1.000000    1.000000   \n",
       "25%    308.000000   103.000000           2.000000    2.500000    3.000000   \n",
       "50%    317.000000   107.000000           3.000000    3.500000    3.500000   \n",
       "75%    325.000000   112.000000           4.000000    4.000000    4.000000   \n",
       "max    340.000000   120.000000           5.000000    5.000000    5.000000   \n",
       "\n",
       "             CGPA    Research  Chance of Admit   \n",
       "count  400.000000  400.000000        400.000000  \n",
       "mean     8.598925    0.547500          0.724350  \n",
       "std      0.596317    0.498362          0.142609  \n",
       "min      6.800000    0.000000          0.340000  \n",
       "25%      8.170000    0.000000          0.640000  \n",
       "50%      8.610000    1.000000          0.730000  \n",
       "75%      9.062500    1.000000          0.830000  \n",
       "max      9.920000    1.000000          0.970000  "
      ]
     },
     "execution_count": 16,
     "metadata": {},
     "output_type": "execute_result"
    }
   ],
   "source": [
    "# dataset ddescribing\n",
    "df.describe()"
   ]
  },
  {
   "cell_type": "code",
   "execution_count": 17,
   "id": "6f0e67f9",
   "metadata": {},
   "outputs": [],
   "source": [
    "# fichar selection in x\n",
    "x = df.drop('Chance of Admit ',axis= 1)"
   ]
  },
  {
   "cell_type": "code",
   "execution_count": 18,
   "id": "0085df3b",
   "metadata": {},
   "outputs": [],
   "source": [
    "# class selection in y\n",
    "y = df[[\"Chance of Admit \"]]"
   ]
  },
  {
   "cell_type": "code",
   "execution_count": 19,
   "id": "77b08db6",
   "metadata": {},
   "outputs": [
    {
     "data": {
      "text/html": [
       "<div>\n",
       "<style scoped>\n",
       "    .dataframe tbody tr th:only-of-type {\n",
       "        vertical-align: middle;\n",
       "    }\n",
       "\n",
       "    .dataframe tbody tr th {\n",
       "        vertical-align: top;\n",
       "    }\n",
       "\n",
       "    .dataframe thead th {\n",
       "        text-align: right;\n",
       "    }\n",
       "</style>\n",
       "<table border=\"1\" class=\"dataframe\">\n",
       "  <thead>\n",
       "    <tr style=\"text-align: right;\">\n",
       "      <th></th>\n",
       "      <th>GRE Score</th>\n",
       "      <th>TOEFL Score</th>\n",
       "      <th>University Rating</th>\n",
       "      <th>SOP</th>\n",
       "      <th>LOR</th>\n",
       "      <th>CGPA</th>\n",
       "      <th>Research</th>\n",
       "    </tr>\n",
       "  </thead>\n",
       "  <tbody>\n",
       "    <tr>\n",
       "      <th>0</th>\n",
       "      <td>337</td>\n",
       "      <td>118</td>\n",
       "      <td>4</td>\n",
       "      <td>4.5</td>\n",
       "      <td>4.5</td>\n",
       "      <td>9.65</td>\n",
       "      <td>1</td>\n",
       "    </tr>\n",
       "    <tr>\n",
       "      <th>1</th>\n",
       "      <td>324</td>\n",
       "      <td>107</td>\n",
       "      <td>4</td>\n",
       "      <td>4.0</td>\n",
       "      <td>4.5</td>\n",
       "      <td>8.87</td>\n",
       "      <td>1</td>\n",
       "    </tr>\n",
       "    <tr>\n",
       "      <th>2</th>\n",
       "      <td>316</td>\n",
       "      <td>104</td>\n",
       "      <td>3</td>\n",
       "      <td>3.0</td>\n",
       "      <td>3.5</td>\n",
       "      <td>8.00</td>\n",
       "      <td>1</td>\n",
       "    </tr>\n",
       "    <tr>\n",
       "      <th>3</th>\n",
       "      <td>322</td>\n",
       "      <td>110</td>\n",
       "      <td>3</td>\n",
       "      <td>3.5</td>\n",
       "      <td>2.5</td>\n",
       "      <td>8.67</td>\n",
       "      <td>1</td>\n",
       "    </tr>\n",
       "    <tr>\n",
       "      <th>4</th>\n",
       "      <td>314</td>\n",
       "      <td>103</td>\n",
       "      <td>2</td>\n",
       "      <td>2.0</td>\n",
       "      <td>3.0</td>\n",
       "      <td>8.21</td>\n",
       "      <td>0</td>\n",
       "    </tr>\n",
       "  </tbody>\n",
       "</table>\n",
       "</div>"
      ],
      "text/plain": [
       "   GRE Score  TOEFL Score  University Rating  SOP  LOR   CGPA  Research\n",
       "0        337          118                  4  4.5   4.5  9.65         1\n",
       "1        324          107                  4  4.0   4.5  8.87         1\n",
       "2        316          104                  3  3.0   3.5  8.00         1\n",
       "3        322          110                  3  3.5   2.5  8.67         1\n",
       "4        314          103                  2  2.0   3.0  8.21         0"
      ]
     },
     "execution_count": 19,
     "metadata": {},
     "output_type": "execute_result"
    }
   ],
   "source": [
    "# 1st 5row show in x\n",
    "x.head()"
   ]
  },
  {
   "cell_type": "code",
   "execution_count": 20,
   "id": "dae4d92b",
   "metadata": {},
   "outputs": [
    {
     "data": {
      "text/html": [
       "<div>\n",
       "<style scoped>\n",
       "    .dataframe tbody tr th:only-of-type {\n",
       "        vertical-align: middle;\n",
       "    }\n",
       "\n",
       "    .dataframe tbody tr th {\n",
       "        vertical-align: top;\n",
       "    }\n",
       "\n",
       "    .dataframe thead th {\n",
       "        text-align: right;\n",
       "    }\n",
       "</style>\n",
       "<table border=\"1\" class=\"dataframe\">\n",
       "  <thead>\n",
       "    <tr style=\"text-align: right;\">\n",
       "      <th></th>\n",
       "      <th>Chance of Admit</th>\n",
       "    </tr>\n",
       "  </thead>\n",
       "  <tbody>\n",
       "    <tr>\n",
       "      <th>0</th>\n",
       "      <td>0.92</td>\n",
       "    </tr>\n",
       "    <tr>\n",
       "      <th>1</th>\n",
       "      <td>0.76</td>\n",
       "    </tr>\n",
       "    <tr>\n",
       "      <th>2</th>\n",
       "      <td>0.72</td>\n",
       "    </tr>\n",
       "    <tr>\n",
       "      <th>3</th>\n",
       "      <td>0.80</td>\n",
       "    </tr>\n",
       "    <tr>\n",
       "      <th>4</th>\n",
       "      <td>0.65</td>\n",
       "    </tr>\n",
       "  </tbody>\n",
       "</table>\n",
       "</div>"
      ],
      "text/plain": [
       "   Chance of Admit \n",
       "0              0.92\n",
       "1              0.76\n",
       "2              0.72\n",
       "3              0.80\n",
       "4              0.65"
      ]
     },
     "execution_count": 20,
     "metadata": {},
     "output_type": "execute_result"
    }
   ],
   "source": [
    "# 1st 5row show in y\n",
    "y.head()"
   ]
  },
  {
   "cell_type": "code",
   "execution_count": 21,
   "id": "918444da",
   "metadata": {},
   "outputs": [
    {
     "data": {
      "text/plain": [
       "(400, 7)"
      ]
     },
     "execution_count": 21,
     "metadata": {},
     "output_type": "execute_result"
    }
   ],
   "source": [
    "# x size\n",
    "x.shape"
   ]
  },
  {
   "cell_type": "code",
   "execution_count": 22,
   "id": "8da0c57c",
   "metadata": {},
   "outputs": [
    {
     "data": {
      "text/plain": [
       "(400, 1)"
      ]
     },
     "execution_count": 22,
     "metadata": {},
     "output_type": "execute_result"
    }
   ],
   "source": [
    "# y size\n",
    "y.shape"
   ]
  },
  {
   "cell_type": "code",
   "execution_count": 23,
   "id": "b6d37b01",
   "metadata": {},
   "outputs": [
    {
     "data": {
      "image/png": "[encoded data removed]",
      "text/plain": [
       "<Figure size 1500x500 with 1 Axes>"
      ]
     },
     "metadata": {},
     "output_type": "display_data"
    }
   ],
   "source": [
    "# create a figure with size 15x5 inches \n",
    "plt.figure(figsize=(15,5))\n",
    "# x fichar bar chart\n",
    "plt.bar(x = x.columns,height=x.sum())\n",
    "# title name\n",
    "plt.title(\"University Admissin Data\",color = \"green\")\n",
    "# x axis name\n",
    "plt.xlabel(\"Admissin Data\",color = \"green\")\n",
    "# y axis name\n",
    "plt.ylabel(\"count\",color = \"green\")\n",
    "plt.show()"
   ]
  },
  {
   "cell_type": "code",
   "execution_count": null,
   "id": "3788889d",
   "metadata": {},
   "outputs": [],
   "source": []
  },
  {
   "cell_type": "markdown",
   "id": "728a58dc",
   "metadata": {},
   "source": [
    "# Feature Importances"
   ]
  },
  {
   "cell_type": "code",
   "execution_count": 24,
   "id": "242637a9",
   "metadata": {},
   "outputs": [],
   "source": [
    "#import ExtraTreesRegressor\n",
    "from sklearn.ensemble import ExtraTreesRegressor"
   ]
  },
  {
   "cell_type": "code",
   "execution_count": 25,
   "id": "7c46565a",
   "metadata": {},
   "outputs": [],
   "source": [
    "#createing object in ExtraTreesRegressor\n",
    "extc = ExtraTreesRegressor() "
   ]
  },
  {
   "cell_type": "code",
   "execution_count": 26,
   "id": "b4720b66",
   "metadata": {},
   "outputs": [
    {
     "data": {
      "text/plain": [
       "ExtraTreesRegressor()"
      ]
     },
     "execution_count": 26,
     "metadata": {},
     "output_type": "execute_result"
    }
   ],
   "source": [
    "# train the data model\n",
    "extc.fit(x,y)"
   ]
  },
  {
   "cell_type": "code",
   "execution_count": 27,
   "id": "5a6d40f6",
   "metadata": {},
   "outputs": [
    {
     "data": {
      "text/plain": [
       "array([0.20679702, 0.11552462, 0.09326293, 0.06192538, 0.05725702,\n",
       "       0.40630013, 0.0589329 ])"
      ]
     },
     "execution_count": 27,
     "metadata": {},
     "output_type": "execute_result"
    }
   ],
   "source": [
    "#x fichar  importances columns\n",
    "extc.feature_importances_"
   ]
  },
  {
   "cell_type": "code",
   "execution_count": 28,
   "id": "76ea4685",
   "metadata": {},
   "outputs": [],
   "source": [
    "# dataset in x fichar  importances columns\n",
    "top = pd.Series(extc.feature_importances_,index=x.columns)"
   ]
  },
  {
   "cell_type": "code",
   "execution_count": 29,
   "id": "3785027e",
   "metadata": {},
   "outputs": [
    {
     "data": {
      "text/plain": [
       "GRE Score            0.206797\n",
       "TOEFL Score          0.115525\n",
       "University Rating    0.093263\n",
       "SOP                  0.061925\n",
       "LOR                  0.057257\n",
       "CGPA                 0.406300\n",
       "Research             0.058933\n",
       "dtype: float64"
      ]
     },
     "execution_count": 29,
     "metadata": {},
     "output_type": "execute_result"
    }
   ],
   "source": [
    "#print x fichar  importances columns\n",
    "top"
   ]
  },
  {
   "cell_type": "code",
   "execution_count": 30,
   "id": "99db05d7",
   "metadata": {},
   "outputs": [
    {
     "data": {
      "image/png": "[encoded data removed]",
      "text/plain": [
       "<Figure size 500x500 with 1 Axes>"
      ]
     },
     "metadata": {},
     "output_type": "display_data"
    }
   ],
   "source": [
    "# create a figure with size 5x5 inches \n",
    "plt.figure(figsize=(5,5))\n",
    "# x fichar  importances columns bar chart\n",
    "top.nlargest(8).plot(kind = \"bar\")\n",
    "plt.show()"
   ]
  },
  {
   "cell_type": "code",
   "execution_count": 31,
   "id": "4d1f92b2",
   "metadata": {},
   "outputs": [
    {
     "data": {
      "image/png": "[encoded data removed]",
      "text/plain": [
       "<Figure size 500x500 with 1 Axes>"
      ]
     },
     "metadata": {},
     "output_type": "display_data"
    }
   ],
   "source": [
    "# create a figure with size 5x5 inches \n",
    "plt.figure(figsize=(5,5))\n",
    "#x fichar  importances columns bar chart\n",
    "top.nlargest(8).plot(kind = \"barh\")\n",
    "plt.show()"
   ]
  },
  {
   "cell_type": "code",
   "execution_count": 32,
   "id": "c3e797e5",
   "metadata": {},
   "outputs": [
    {
     "data": {
      "image/png": "[encoded data removed]",
      "text/plain": [
       "<Figure size 500x500 with 1 Axes>"
      ]
     },
     "metadata": {},
     "output_type": "display_data"
    }
   ],
   "source": [
    "# create a figure with size 5x5 inches \n",
    "plt.figure(figsize=(5,5))\n",
    "#x fichar  importances columns bar chart\n",
    "top.nsmallest(8).plot(kind = \"bar\")\n",
    "plt.show()"
   ]
  },
  {
   "cell_type": "code",
   "execution_count": 33,
   "id": "dd6a239a",
   "metadata": {},
   "outputs": [
    {
     "data": {
      "image/png": "[encoded data removed]",
      "text/plain": [
       "<Figure size 500x500 with 1 Axes>"
      ]
     },
     "metadata": {},
     "output_type": "display_data"
    }
   ],
   "source": [
    "# create a figure with size 5x5 inches \n",
    "plt.figure(figsize=(5,5))\n",
    "#x fichar  importances columns bar chart\n",
    "top.nsmallest(8).plot(kind = \"barh\")\n",
    "plt.show()"
   ]
  },
  {
   "cell_type": "code",
   "execution_count": 34,
   "id": "2f1fc46d",
   "metadata": {},
   "outputs": [
    {
     "data": {
      "image/png": "[encoded data removed]",
      "text/plain": [
       "<Figure size 1000x1000 with 1 Axes>"
      ]
     },
     "metadata": {},
     "output_type": "display_data"
    }
   ],
   "source": [
    "# create a figure with size 5x5 inches \n",
    "plt.figure(figsize=(10,10))\n",
    "#x fichar  importances columns pie chart\n",
    "top.nsmallest(8).plot(kind = \"pie\")\n",
    "plt.show()"
   ]
  },
  {
   "cell_type": "code",
   "execution_count": null,
   "id": "1a964572",
   "metadata": {},
   "outputs": [],
   "source": []
  },
  {
   "cell_type": "markdown",
   "id": "1663557b",
   "metadata": {},
   "source": [
    "# Feature Scaling"
   ]
  },
  {
   "cell_type": "code",
   "execution_count": 35,
   "id": "e2fe43dc",
   "metadata": {},
   "outputs": [],
   "source": [
    "#import StandardScaler \n",
    "from sklearn.preprocessing import StandardScaler"
   ]
  },
  {
   "cell_type": "code",
   "execution_count": 36,
   "id": "a5d6f47b",
   "metadata": {},
   "outputs": [],
   "source": [
    "#createing object in StandardScaler\n",
    "sts = StandardScaler()"
   ]
  },
  {
   "cell_type": "code",
   "execution_count": 37,
   "id": "00fab347",
   "metadata": {},
   "outputs": [],
   "source": [
    "# converting StandardScaler \n",
    "for colum in x.columns:\n",
    "    if x[colum].dtype == \"float64\" and \"int64\":\n",
    "        x[colum] = sts.fit_transform(x[[colum]])"
   ]
  },
  {
   "cell_type": "code",
   "execution_count": 38,
   "id": "766de5b8",
   "metadata": {},
   "outputs": [
    {
     "data": {
      "text/html": [
       "<div>\n",
       "<style scoped>\n",
       "    .dataframe tbody tr th:only-of-type {\n",
       "        vertical-align: middle;\n",
       "    }\n",
       "\n",
       "    .dataframe tbody tr th {\n",
       "        vertical-align: top;\n",
       "    }\n",
       "\n",
       "    .dataframe thead th {\n",
       "        text-align: right;\n",
       "    }\n",
       "</style>\n",
       "<table border=\"1\" class=\"dataframe\">\n",
       "  <thead>\n",
       "    <tr style=\"text-align: right;\">\n",
       "      <th></th>\n",
       "      <th>GRE Score</th>\n",
       "      <th>TOEFL Score</th>\n",
       "      <th>University Rating</th>\n",
       "      <th>SOP</th>\n",
       "      <th>LOR</th>\n",
       "      <th>CGPA</th>\n",
       "      <th>Research</th>\n",
       "    </tr>\n",
       "  </thead>\n",
       "  <tbody>\n",
       "    <tr>\n",
       "      <th>0</th>\n",
       "      <td>337</td>\n",
       "      <td>118</td>\n",
       "      <td>4</td>\n",
       "      <td>1.093864</td>\n",
       "      <td>1.167321</td>\n",
       "      <td>1.764818</td>\n",
       "      <td>1</td>\n",
       "    </tr>\n",
       "    <tr>\n",
       "      <th>1</th>\n",
       "      <td>324</td>\n",
       "      <td>107</td>\n",
       "      <td>4</td>\n",
       "      <td>0.596653</td>\n",
       "      <td>1.167321</td>\n",
       "      <td>0.455151</td>\n",
       "      <td>1</td>\n",
       "    </tr>\n",
       "    <tr>\n",
       "      <th>2</th>\n",
       "      <td>316</td>\n",
       "      <td>104</td>\n",
       "      <td>3</td>\n",
       "      <td>-0.397769</td>\n",
       "      <td>0.052933</td>\n",
       "      <td>-1.005631</td>\n",
       "      <td>1</td>\n",
       "    </tr>\n",
       "    <tr>\n",
       "      <th>3</th>\n",
       "      <td>322</td>\n",
       "      <td>110</td>\n",
       "      <td>3</td>\n",
       "      <td>0.099442</td>\n",
       "      <td>-1.061454</td>\n",
       "      <td>0.119339</td>\n",
       "      <td>1</td>\n",
       "    </tr>\n",
       "    <tr>\n",
       "      <th>4</th>\n",
       "      <td>314</td>\n",
       "      <td>103</td>\n",
       "      <td>2</td>\n",
       "      <td>-1.392191</td>\n",
       "      <td>-0.504260</td>\n",
       "      <td>-0.653029</td>\n",
       "      <td>0</td>\n",
       "    </tr>\n",
       "  </tbody>\n",
       "</table>\n",
       "</div>"
      ],
      "text/plain": [
       "   GRE Score  TOEFL Score  University Rating       SOP      LOR       CGPA  \\\n",
       "0        337          118                  4  1.093864  1.167321  1.764818   \n",
       "1        324          107                  4  0.596653  1.167321  0.455151   \n",
       "2        316          104                  3 -0.397769  0.052933 -1.005631   \n",
       "3        322          110                  3  0.099442 -1.061454  0.119339   \n",
       "4        314          103                  2 -1.392191 -0.504260 -0.653029   \n",
       "\n",
       "   Research  \n",
       "0         1  \n",
       "1         1  \n",
       "2         1  \n",
       "3         1  \n",
       "4         0  "
      ]
     },
     "execution_count": 38,
     "metadata": {},
     "output_type": "execute_result"
    }
   ],
   "source": [
    "# 1st 5row show in x\n",
    "x.head()"
   ]
  },
  {
   "cell_type": "code",
   "execution_count": 39,
   "id": "5d1a5a9d",
   "metadata": {},
   "outputs": [
    {
     "data": {
      "text/html": [
       "<div>\n",
       "<style scoped>\n",
       "    .dataframe tbody tr th:only-of-type {\n",
       "        vertical-align: middle;\n",
       "    }\n",
       "\n",
       "    .dataframe tbody tr th {\n",
       "        vertical-align: top;\n",
       "    }\n",
       "\n",
       "    .dataframe thead th {\n",
       "        text-align: right;\n",
       "    }\n",
       "</style>\n",
       "<table border=\"1\" class=\"dataframe\">\n",
       "  <thead>\n",
       "    <tr style=\"text-align: right;\">\n",
       "      <th></th>\n",
       "      <th>Chance of Admit</th>\n",
       "    </tr>\n",
       "  </thead>\n",
       "  <tbody>\n",
       "    <tr>\n",
       "      <th>0</th>\n",
       "      <td>0.92</td>\n",
       "    </tr>\n",
       "    <tr>\n",
       "      <th>1</th>\n",
       "      <td>0.76</td>\n",
       "    </tr>\n",
       "    <tr>\n",
       "      <th>2</th>\n",
       "      <td>0.72</td>\n",
       "    </tr>\n",
       "    <tr>\n",
       "      <th>3</th>\n",
       "      <td>0.80</td>\n",
       "    </tr>\n",
       "    <tr>\n",
       "      <th>4</th>\n",
       "      <td>0.65</td>\n",
       "    </tr>\n",
       "  </tbody>\n",
       "</table>\n",
       "</div>"
      ],
      "text/plain": [
       "   Chance of Admit \n",
       "0              0.92\n",
       "1              0.76\n",
       "2              0.72\n",
       "3              0.80\n",
       "4              0.65"
      ]
     },
     "execution_count": 39,
     "metadata": {},
     "output_type": "execute_result"
    }
   ],
   "source": [
    "# 1st 5row show in y\n",
    "y.head()"
   ]
  },
  {
   "cell_type": "code",
   "execution_count": null,
   "id": "30526bd3",
   "metadata": {},
   "outputs": [],
   "source": []
  },
  {
   "cell_type": "markdown",
   "id": "a8af9536",
   "metadata": {},
   "source": [
    "# Training & Testing Data"
   ]
  },
  {
   "cell_type": "code",
   "execution_count": 40,
   "id": "b7899a3b",
   "metadata": {},
   "outputs": [],
   "source": [
    "#import train_test_split\n",
    "from sklearn.model_selection import train_test_split"
   ]
  },
  {
   "cell_type": "code",
   "execution_count": 41,
   "id": "c8d3a524",
   "metadata": {},
   "outputs": [],
   "source": [
    "# 70% data tarining & 30% data testing \n",
    "xtrain,xtest,ytrain,ytest = train_test_split(x,y,test_size=0.30,random_state=42)"
   ]
  },
  {
   "cell_type": "code",
   "execution_count": 42,
   "id": "34d25198",
   "metadata": {},
   "outputs": [
    {
     "data": {
      "text/html": [
       "<div>\n",
       "<style scoped>\n",
       "    .dataframe tbody tr th:only-of-type {\n",
       "        vertical-align: middle;\n",
       "    }\n",
       "\n",
       "    .dataframe tbody tr th {\n",
       "        vertical-align: top;\n",
       "    }\n",
       "\n",
       "    .dataframe thead th {\n",
       "        text-align: right;\n",
       "    }\n",
       "</style>\n",
       "<table border=\"1\" class=\"dataframe\">\n",
       "  <thead>\n",
       "    <tr style=\"text-align: right;\">\n",
       "      <th></th>\n",
       "      <th>GRE Score</th>\n",
       "      <th>TOEFL Score</th>\n",
       "      <th>University Rating</th>\n",
       "      <th>SOP</th>\n",
       "      <th>LOR</th>\n",
       "      <th>CGPA</th>\n",
       "      <th>Research</th>\n",
       "    </tr>\n",
       "  </thead>\n",
       "  <tbody>\n",
       "    <tr>\n",
       "      <th>157</th>\n",
       "      <td>309</td>\n",
       "      <td>104</td>\n",
       "      <td>2</td>\n",
       "      <td>-1.392191</td>\n",
       "      <td>-1.061454</td>\n",
       "      <td>-0.569076</td>\n",
       "      <td>0</td>\n",
       "    </tr>\n",
       "    <tr>\n",
       "      <th>109</th>\n",
       "      <td>304</td>\n",
       "      <td>103</td>\n",
       "      <td>5</td>\n",
       "      <td>1.591075</td>\n",
       "      <td>0.610127</td>\n",
       "      <td>0.068967</td>\n",
       "      <td>0</td>\n",
       "    </tr>\n",
       "    <tr>\n",
       "      <th>17</th>\n",
       "      <td>319</td>\n",
       "      <td>106</td>\n",
       "      <td>3</td>\n",
       "      <td>0.596653</td>\n",
       "      <td>-0.504260</td>\n",
       "      <td>-1.005631</td>\n",
       "      <td>1</td>\n",
       "    </tr>\n",
       "    <tr>\n",
       "      <th>347</th>\n",
       "      <td>299</td>\n",
       "      <td>94</td>\n",
       "      <td>1</td>\n",
       "      <td>-2.386613</td>\n",
       "      <td>-2.733036</td>\n",
       "      <td>-2.113811</td>\n",
       "      <td>0</td>\n",
       "    </tr>\n",
       "    <tr>\n",
       "      <th>24</th>\n",
       "      <td>336</td>\n",
       "      <td>119</td>\n",
       "      <td>5</td>\n",
       "      <td>0.596653</td>\n",
       "      <td>0.052933</td>\n",
       "      <td>2.016677</td>\n",
       "      <td>1</td>\n",
       "    </tr>\n",
       "  </tbody>\n",
       "</table>\n",
       "</div>"
      ],
      "text/plain": [
       "     GRE Score  TOEFL Score  University Rating       SOP      LOR       CGPA  \\\n",
       "157        309          104                  2 -1.392191 -1.061454 -0.569076   \n",
       "109        304          103                  5  1.591075  0.610127  0.068967   \n",
       "17         319          106                  3  0.596653 -0.504260 -1.005631   \n",
       "347        299           94                  1 -2.386613 -2.733036 -2.113811   \n",
       "24         336          119                  5  0.596653  0.052933  2.016677   \n",
       "\n",
       "     Research  \n",
       "157         0  \n",
       "109         0  \n",
       "17          1  \n",
       "347         0  \n",
       "24          1  "
      ]
     },
     "execution_count": 42,
     "metadata": {},
     "output_type": "execute_result"
    }
   ],
   "source": [
    "# 1st 5row show in xtrain\n",
    "xtrain.head()"
   ]
  },
  {
   "cell_type": "code",
   "execution_count": 43,
   "id": "5cda5055",
   "metadata": {},
   "outputs": [
    {
     "data": {
      "text/html": [
       "<div>\n",
       "<style scoped>\n",
       "    .dataframe tbody tr th:only-of-type {\n",
       "        vertical-align: middle;\n",
       "    }\n",
       "\n",
       "    .dataframe tbody tr th {\n",
       "        vertical-align: top;\n",
       "    }\n",
       "\n",
       "    .dataframe thead th {\n",
       "        text-align: right;\n",
       "    }\n",
       "</style>\n",
       "<table border=\"1\" class=\"dataframe\">\n",
       "  <thead>\n",
       "    <tr style=\"text-align: right;\">\n",
       "      <th></th>\n",
       "      <th>Chance of Admit</th>\n",
       "    </tr>\n",
       "  </thead>\n",
       "  <tbody>\n",
       "    <tr>\n",
       "      <th>157</th>\n",
       "      <td>0.65</td>\n",
       "    </tr>\n",
       "    <tr>\n",
       "      <th>109</th>\n",
       "      <td>0.68</td>\n",
       "    </tr>\n",
       "    <tr>\n",
       "      <th>17</th>\n",
       "      <td>0.65</td>\n",
       "    </tr>\n",
       "    <tr>\n",
       "      <th>347</th>\n",
       "      <td>0.42</td>\n",
       "    </tr>\n",
       "    <tr>\n",
       "      <th>24</th>\n",
       "      <td>0.97</td>\n",
       "    </tr>\n",
       "  </tbody>\n",
       "</table>\n",
       "</div>"
      ],
      "text/plain": [
       "     Chance of Admit \n",
       "157              0.65\n",
       "109              0.68\n",
       "17               0.65\n",
       "347              0.42\n",
       "24               0.97"
      ]
     },
     "execution_count": 43,
     "metadata": {},
     "output_type": "execute_result"
    }
   ],
   "source": [
    "# 1st 5row show in ytrain\n",
    "ytrain.head()"
   ]
  },
  {
   "cell_type": "code",
   "execution_count": 44,
   "id": "d2d62dcf",
   "metadata": {},
   "outputs": [
    {
     "data": {
      "text/plain": [
       "(280, 7)"
      ]
     },
     "execution_count": 44,
     "metadata": {},
     "output_type": "execute_result"
    }
   ],
   "source": [
    "# xtrain size\n",
    "xtrain.shape"
   ]
  },
  {
   "cell_type": "code",
   "execution_count": 45,
   "id": "268157df",
   "metadata": {},
   "outputs": [
    {
     "data": {
      "text/plain": [
       "(280, 1)"
      ]
     },
     "execution_count": 45,
     "metadata": {},
     "output_type": "execute_result"
    }
   ],
   "source": [
    "# ytrain size\n",
    "ytrain.shape"
   ]
  },
  {
   "cell_type": "code",
   "execution_count": 46,
   "id": "aff2d22b",
   "metadata": {},
   "outputs": [
    {
     "data": {
      "text/plain": [
       "(120, 7)"
      ]
     },
     "execution_count": 46,
     "metadata": {},
     "output_type": "execute_result"
    }
   ],
   "source": [
    "# xtest size\n",
    "xtest.shape"
   ]
  },
  {
   "cell_type": "code",
   "execution_count": 47,
   "id": "8dd27c12",
   "metadata": {},
   "outputs": [
    {
     "data": {
      "text/plain": [
       "(120, 1)"
      ]
     },
     "execution_count": 47,
     "metadata": {},
     "output_type": "execute_result"
    }
   ],
   "source": [
    "# ytest size\n",
    "ytest.shape"
   ]
  },
  {
   "cell_type": "code",
   "execution_count": null,
   "id": "ac4b9506",
   "metadata": {},
   "outputs": [],
   "source": []
  },
  {
   "cell_type": "markdown",
   "id": "d151aa3f",
   "metadata": {},
   "source": [
    "# LinearRegression"
   ]
  },
  {
   "cell_type": "code",
   "execution_count": 48,
   "id": "93b08964",
   "metadata": {},
   "outputs": [],
   "source": [
    "#import LinearRegression\n",
    "from sklearn.linear_model import LinearRegression"
   ]
  },
  {
   "cell_type": "code",
   "execution_count": 49,
   "id": "602e0b90",
   "metadata": {},
   "outputs": [],
   "source": [
    "# createing LinearRegression object\n",
    "lr = LinearRegression()"
   ]
  },
  {
   "cell_type": "code",
   "execution_count": 50,
   "id": "05b2a170",
   "metadata": {},
   "outputs": [
    {
     "data": {
      "text/plain": [
       "LinearRegression()"
      ]
     },
     "execution_count": 50,
     "metadata": {},
     "output_type": "execute_result"
    }
   ],
   "source": [
    "# tarining the model\n",
    "lr.fit(xtrain,ytrain)"
   ]
  },
  {
   "cell_type": "code",
   "execution_count": 51,
   "id": "420e3638",
   "metadata": {},
   "outputs": [
    {
     "data": {
      "text/plain": [
       "array([[0.64734197],\n",
       "       [0.72165881],\n",
       "       [0.93540267],\n",
       "       [0.82079041],\n",
       "       [0.57781233],\n",
       "       [0.9282453 ],\n",
       "       [0.52898217],\n",
       "       [0.54049852],\n",
       "       [0.6642913 ],\n",
       "       [0.84453894],\n",
       "       [0.72491972],\n",
       "       [0.91192259],\n",
       "       [0.55014279],\n",
       "       [0.88795065],\n",
       "       [0.70151728],\n",
       "       [0.69045265],\n",
       "       [0.66999264],\n",
       "       [0.48163309],\n",
       "       [0.69099994],\n",
       "       [0.97632508],\n",
       "       [0.59207825],\n",
       "       [0.65665649],\n",
       "       [0.71377809],\n",
       "       [0.53497985],\n",
       "       [0.95093543],\n",
       "       [0.810305  ],\n",
       "       [0.69409622],\n",
       "       [0.56684368],\n",
       "       [0.67946535],\n",
       "       [0.81457938],\n",
       "       [0.81022743],\n",
       "       [0.94667098],\n",
       "       [0.64560622],\n",
       "       [0.51450621],\n",
       "       [0.66361741],\n",
       "       [0.67144094],\n",
       "       [0.7235074 ],\n",
       "       [0.6480692 ],\n",
       "       [0.61989951],\n",
       "       [0.88414197],\n",
       "       [0.74108467],\n",
       "       [0.59701292],\n",
       "       [0.77704183],\n",
       "       [0.96177165],\n",
       "       [0.84899462],\n",
       "       [0.83589569],\n",
       "       [0.95175439],\n",
       "       [0.65471687],\n",
       "       [0.92257385],\n",
       "       [0.85934346],\n",
       "       [0.89351388],\n",
       "       [0.72601699],\n",
       "       [0.78377786],\n",
       "       [0.95276909],\n",
       "       [0.57555615],\n",
       "       [0.59192473],\n",
       "       [0.69115154],\n",
       "       [0.84305695],\n",
       "       [0.60189253],\n",
       "       [0.84517226],\n",
       "       [0.66665763],\n",
       "       [0.65574046],\n",
       "       [0.7006315 ],\n",
       "       [0.50851903],\n",
       "       [0.63275593],\n",
       "       [0.71371096],\n",
       "       [0.61905871],\n",
       "       [0.84500458],\n",
       "       [0.85769092],\n",
       "       [0.79819613],\n",
       "       [0.72154137],\n",
       "       [0.82117028],\n",
       "       [0.87634528],\n",
       "       [0.83168876],\n",
       "       [0.52556205],\n",
       "       [0.7241952 ],\n",
       "       [0.69790972],\n",
       "       [0.59279484],\n",
       "       [0.88165673],\n",
       "       [0.76416428],\n",
       "       [0.74926046],\n",
       "       [0.74612311],\n",
       "       [0.9982953 ],\n",
       "       [0.71427734],\n",
       "       [0.59018175],\n",
       "       [0.70931891],\n",
       "       [0.79704563],\n",
       "       [0.73055045],\n",
       "       [0.9139551 ],\n",
       "       [0.65702765],\n",
       "       [0.60314022],\n",
       "       [0.84254344],\n",
       "       [0.49267196],\n",
       "       [0.72253268],\n",
       "       [0.61808116],\n",
       "       [0.63524739],\n",
       "       [0.73528351],\n",
       "       [0.77080713],\n",
       "       [0.54633104],\n",
       "       [0.77604563],\n",
       "       [0.67700727],\n",
       "       [0.6869001 ],\n",
       "       [0.72298931],\n",
       "       [0.80028961],\n",
       "       [0.74811736],\n",
       "       [0.60098574],\n",
       "       [0.65731735],\n",
       "       [0.64641873],\n",
       "       [0.65147567],\n",
       "       [0.61735365],\n",
       "       [0.7162687 ],\n",
       "       [0.62755047],\n",
       "       [0.56247411],\n",
       "       [0.58967132],\n",
       "       [0.83857551],\n",
       "       [0.60952387],\n",
       "       [0.45249326],\n",
       "       [0.88512761],\n",
       "       [0.7732609 ],\n",
       "       [0.81978798]])"
      ]
     },
     "execution_count": 51,
     "metadata": {},
     "output_type": "execute_result"
    }
   ],
   "source": [
    "# all model predict\n",
    "lr.predict(xtest)"
   ]
  },
  {
   "cell_type": "markdown",
   "id": "a7e660ab",
   "metadata": {},
   "source": [
    "# Accuracy Score & MSE & MAE & R2 Score"
   ]
  },
  {
   "cell_type": "code",
   "execution_count": 52,
   "id": "3f25e7b1",
   "metadata": {},
   "outputs": [],
   "source": [
    "from sklearn.metrics import accuracy_score ,mean_squared_error,mean_absolute_error,r2_score"
   ]
  },
  {
   "cell_type": "code",
   "execution_count": 53,
   "id": "02e771e5",
   "metadata": {},
   "outputs": [
    {
     "data": {
      "text/plain": [
       "0.801980733150079"
      ]
     },
     "execution_count": 53,
     "metadata": {},
     "output_type": "execute_result"
    }
   ],
   "source": [
    "lr.score(xtrain,ytrain)"
   ]
  },
  {
   "cell_type": "code",
   "execution_count": 54,
   "id": "70d285a3",
   "metadata": {},
   "outputs": [
    {
     "data": {
      "text/plain": [
       "0.7955991554684619"
      ]
     },
     "execution_count": 54,
     "metadata": {},
     "output_type": "execute_result"
    }
   ],
   "source": [
    "lr.score(xtest,ytest)"
   ]
  },
  {
   "cell_type": "code",
   "execution_count": 55,
   "id": "0cb64047",
   "metadata": {},
   "outputs": [
    {
     "data": {
      "text/plain": [
       "0.7955991554684619"
      ]
     },
     "execution_count": 55,
     "metadata": {},
     "output_type": "execute_result"
    }
   ],
   "source": [
    "r2_score(ytest,lr.predict(xtest))"
   ]
  },
  {
   "cell_type": "code",
   "execution_count": 56,
   "id": "565f3f57",
   "metadata": {},
   "outputs": [
    {
     "data": {
      "text/plain": [
       "0.004652821846481295"
      ]
     },
     "execution_count": 56,
     "metadata": {},
     "output_type": "execute_result"
    }
   ],
   "source": [
    "mean_squared_error(ytest,lr.predict(xtest))"
   ]
  },
  {
   "cell_type": "code",
   "execution_count": 57,
   "id": "8bae8a37",
   "metadata": {},
   "outputs": [
    {
     "data": {
      "text/plain": [
       "0.04947838710419593"
      ]
     },
     "execution_count": 57,
     "metadata": {},
     "output_type": "execute_result"
    }
   ],
   "source": [
    "mean_absolute_error(ytest,lr.predict(xtest))"
   ]
  },
  {
   "cell_type": "code",
   "execution_count": null,
   "id": "4ed8f750",
   "metadata": {},
   "outputs": [],
   "source": []
  },
  {
   "cell_type": "markdown",
   "id": "8f36a6d1",
   "metadata": {},
   "source": [
    "# DecisionTreeRegressor"
   ]
  },
  {
   "cell_type": "code",
   "execution_count": 58,
   "id": "491b8452",
   "metadata": {},
   "outputs": [],
   "source": [
    "from sklearn.tree import DecisionTreeRegressor"
   ]
  },
  {
   "cell_type": "code",
   "execution_count": 59,
   "id": "b02955a7",
   "metadata": {},
   "outputs": [],
   "source": [
    "dtr = DecisionTreeRegressor()"
   ]
  },
  {
   "cell_type": "code",
   "execution_count": 60,
   "id": "58bae4e1",
   "metadata": {},
   "outputs": [
    {
     "data": {
      "text/plain": [
       "DecisionTreeRegressor()"
      ]
     },
     "execution_count": 60,
     "metadata": {},
     "output_type": "execute_result"
    }
   ],
   "source": [
    "dtr.fit(xtrain,ytrain)"
   ]
  },
  {
   "cell_type": "code",
   "execution_count": 61,
   "id": "dcfce599",
   "metadata": {},
   "outputs": [
    {
     "data": {
      "text/plain": [
       "array([0.73, 0.78, 0.93, 0.79, 0.68, 0.91, 0.68, 0.38, 0.81, 0.91, 0.52,\n",
       "       0.93, 0.49, 0.88, 0.76, 0.65, 0.63, 0.47, 0.75, 0.97, 0.67, 0.7 ,\n",
       "       0.67, 0.63, 0.95, 0.8 , 0.76, 0.34, 0.79, 0.84, 0.79, 0.94, 0.65,\n",
       "       0.53, 0.73, 0.7 , 0.57, 0.73, 0.62, 0.93, 0.84, 0.7 , 0.8 , 0.94,\n",
       "       0.88, 0.79, 0.97, 0.62, 0.93, 0.91, 0.92, 0.76, 0.76, 0.95, 0.57,\n",
       "       0.62, 0.63, 0.79, 0.73, 0.88, 0.71, 0.42, 0.77, 0.47, 0.73, 0.52,\n",
       "       0.65, 0.89, 0.88, 0.78, 0.71, 0.81, 0.93, 0.89, 0.54, 0.73, 0.72,\n",
       "       0.34, 0.78, 0.78, 0.85, 0.75, 0.97, 0.73, 0.57, 0.72, 0.8 , 0.77,\n",
       "       0.94, 0.72, 0.65, 0.79, 0.57, 0.77, 0.63, 0.59, 0.73, 0.67, 0.63,\n",
       "       0.81, 0.63, 0.71, 0.68, 0.83, 0.77, 0.48, 0.7 , 0.62, 0.73, 0.67,\n",
       "       0.68, 0.73, 0.5 , 0.5 , 0.82, 0.73, 0.49, 0.9 , 0.79, 0.78])"
      ]
     },
     "execution_count": 61,
     "metadata": {},
     "output_type": "execute_result"
    }
   ],
   "source": [
    "dtr.predict(xtest)"
   ]
  },
  {
   "cell_type": "markdown",
   "id": "7c1e65bf",
   "metadata": {},
   "source": [
    "# Accuracy Score & MSE & MAE & R2 Score"
   ]
  },
  {
   "cell_type": "code",
   "execution_count": 62,
   "id": "283d3875",
   "metadata": {},
   "outputs": [
    {
     "data": {
      "text/plain": [
       "1.0"
      ]
     },
     "execution_count": 62,
     "metadata": {},
     "output_type": "execute_result"
    }
   ],
   "source": [
    "dtr.score(xtrain,ytrain)"
   ]
  },
  {
   "cell_type": "code",
   "execution_count": 63,
   "id": "cee74c92",
   "metadata": {},
   "outputs": [
    {
     "data": {
      "text/plain": [
       "0.5733249051833123"
      ]
     },
     "execution_count": 63,
     "metadata": {},
     "output_type": "execute_result"
    }
   ],
   "source": [
    "dtr.score(xtest,ytest)"
   ]
  },
  {
   "cell_type": "code",
   "execution_count": 64,
   "id": "e9794623",
   "metadata": {},
   "outputs": [
    {
     "data": {
      "text/plain": [
       "0.5733249051833123"
      ]
     },
     "execution_count": 64,
     "metadata": {},
     "output_type": "execute_result"
    }
   ],
   "source": [
    "r2_score(ytest,dtr.predict(xtest))"
   ]
  },
  {
   "cell_type": "code",
   "execution_count": 65,
   "id": "82f109da",
   "metadata": {},
   "outputs": [
    {
     "data": {
      "text/plain": [
       "0.009712499999999997"
      ]
     },
     "execution_count": 65,
     "metadata": {},
     "output_type": "execute_result"
    }
   ],
   "source": [
    "mean_squared_error(ytest,dtr.predict(xtest))"
   ]
  },
  {
   "cell_type": "code",
   "execution_count": 66,
   "id": "ad53fc7c",
   "metadata": {},
   "outputs": [
    {
     "data": {
      "text/plain": [
       "0.07258333333333335"
      ]
     },
     "execution_count": 66,
     "metadata": {},
     "output_type": "execute_result"
    }
   ],
   "source": [
    "mean_absolute_error(ytest,dtr.predict(xtest))"
   ]
  },
  {
   "cell_type": "code",
   "execution_count": null,
   "id": "f67e95c5",
   "metadata": {},
   "outputs": [],
   "source": []
  },
  {
   "cell_type": "markdown",
   "id": "84764635",
   "metadata": {},
   "source": [
    "# RandomForestRegressor"
   ]
  },
  {
   "cell_type": "code",
   "execution_count": 67,
   "id": "ec3f602f",
   "metadata": {},
   "outputs": [],
   "source": [
    "from sklearn.ensemble import RandomForestRegressor"
   ]
  },
  {
   "cell_type": "code",
   "execution_count": 68,
   "id": "eb9d339e",
   "metadata": {},
   "outputs": [],
   "source": [
    "rfr = RandomForestRegressor()"
   ]
  },
  {
   "cell_type": "code",
   "execution_count": 69,
   "id": "7ec0a036",
   "metadata": {},
   "outputs": [
    {
     "data": {
      "text/plain": [
       "RandomForestRegressor()"
      ]
     },
     "execution_count": 69,
     "metadata": {},
     "output_type": "execute_result"
    }
   ],
   "source": [
    "rfr.fit(xtrain,ytrain)"
   ]
  },
  {
   "cell_type": "code",
   "execution_count": 70,
   "id": "d956c320",
   "metadata": {},
   "outputs": [
    {
     "data": {
      "text/plain": [
       "array([0.6296, 0.7218, 0.9397, 0.8135, 0.537 , 0.9176, 0.5669, 0.4679,\n",
       "       0.6708, 0.9037, 0.7132, 0.9392, 0.5348, 0.9045, 0.722 , 0.7015,\n",
       "       0.6928, 0.4869, 0.7184, 0.9582, 0.6331, 0.671 , 0.7142, 0.5291,\n",
       "       0.9432, 0.8197, 0.7317, 0.5484, 0.7031, 0.8015, 0.8009, 0.9426,\n",
       "       0.6693, 0.4783, 0.7065, 0.6756, 0.6812, 0.6874, 0.6171, 0.9239,\n",
       "       0.7443, 0.6412, 0.7531, 0.9472, 0.8729, 0.8404, 0.9626, 0.6674,\n",
       "       0.9347, 0.8905, 0.9126, 0.707 , 0.7608, 0.9429, 0.5572, 0.6053,\n",
       "       0.6912, 0.8469, 0.6018, 0.8644, 0.6665, 0.6243, 0.7092, 0.4587,\n",
       "       0.6635, 0.6437, 0.6174, 0.8587, 0.8828, 0.7692, 0.7212, 0.8291,\n",
       "       0.9166, 0.8619, 0.5272, 0.7337, 0.6823, 0.5052, 0.8403, 0.7788,\n",
       "       0.7544, 0.7479, 0.9656, 0.7186, 0.5613, 0.7052, 0.7911, 0.7468,\n",
       "       0.9308, 0.665 , 0.615 , 0.8495, 0.5245, 0.7244, 0.6279, 0.6235,\n",
       "       0.7265, 0.7494, 0.5294, 0.7421, 0.6813, 0.687 , 0.7128, 0.7723,\n",
       "       0.7298, 0.6208, 0.6796, 0.5955, 0.6295, 0.6504, 0.6915, 0.6159,\n",
       "       0.5532, 0.6322, 0.8261, 0.6416, 0.4673, 0.9135, 0.774 , 0.7605])"
      ]
     },
     "execution_count": 70,
     "metadata": {},
     "output_type": "execute_result"
    }
   ],
   "source": [
    "rfr.predict(xtest)"
   ]
  },
  {
   "cell_type": "markdown",
   "id": "74b16dde",
   "metadata": {},
   "source": [
    "# Accuracy Score & MSE & MAE & R2 Score"
   ]
  },
  {
   "cell_type": "code",
   "execution_count": 71,
   "id": "3dfb4e9e",
   "metadata": {},
   "outputs": [
    {
     "data": {
      "text/plain": [
       "0.9645312919692727"
      ]
     },
     "execution_count": 71,
     "metadata": {},
     "output_type": "execute_result"
    }
   ],
   "source": [
    "rfr.score(xtrain,ytrain)"
   ]
  },
  {
   "cell_type": "code",
   "execution_count": 72,
   "id": "4f5279f9",
   "metadata": {},
   "outputs": [
    {
     "data": {
      "text/plain": [
       "0.7804377260590918"
      ]
     },
     "execution_count": 72,
     "metadata": {},
     "output_type": "execute_result"
    }
   ],
   "source": [
    "rfr.score(xtest,ytest)"
   ]
  },
  {
   "cell_type": "code",
   "execution_count": 73,
   "id": "2d6843d5",
   "metadata": {},
   "outputs": [
    {
     "data": {
      "text/plain": [
       "0.7804377260590918"
      ]
     },
     "execution_count": 73,
     "metadata": {},
     "output_type": "execute_result"
    }
   ],
   "source": [
    "r2_score(ytest,rfr.predict(xtest))"
   ]
  },
  {
   "cell_type": "code",
   "execution_count": 74,
   "id": "2b72b23b",
   "metadata": {},
   "outputs": [
    {
     "data": {
      "text/plain": [
       "0.004997944833333325"
      ]
     },
     "execution_count": 74,
     "metadata": {},
     "output_type": "execute_result"
    }
   ],
   "source": [
    "mean_squared_error(ytest,rfr.predict(xtest))"
   ]
  },
  {
   "cell_type": "code",
   "execution_count": 75,
   "id": "5d92201d",
   "metadata": {},
   "outputs": [
    {
     "data": {
      "text/plain": [
       "0.05061999999999999"
      ]
     },
     "execution_count": 75,
     "metadata": {},
     "output_type": "execute_result"
    }
   ],
   "source": [
    "mean_absolute_error(ytest,rfr.predict(xtest))"
   ]
  },
  {
   "cell_type": "code",
   "execution_count": null,
   "id": "22380e93",
   "metadata": {},
   "outputs": [],
   "source": []
  },
  {
   "cell_type": "markdown",
   "id": "39a5a0c8",
   "metadata": {},
   "source": [
    "# SVM"
   ]
  },
  {
   "cell_type": "code",
   "execution_count": 76,
   "id": "d9776aed",
   "metadata": {},
   "outputs": [],
   "source": [
    "from sklearn.svm import SVR"
   ]
  },
  {
   "cell_type": "code",
   "execution_count": 77,
   "id": "eda32871",
   "metadata": {},
   "outputs": [],
   "source": [
    "svr = SVR()"
   ]
  },
  {
   "cell_type": "code",
   "execution_count": 78,
   "id": "40a554fc",
   "metadata": {},
   "outputs": [
    {
     "data": {
      "text/plain": [
       "SVR()"
      ]
     },
     "execution_count": 78,
     "metadata": {},
     "output_type": "execute_result"
    }
   ],
   "source": [
    "svr.fit(xtrain,ytrain)"
   ]
  },
  {
   "cell_type": "code",
   "execution_count": 79,
   "id": "6d1d18dd",
   "metadata": {},
   "outputs": [
    {
     "data": {
      "text/plain": [
       "array([0.65481858, 0.63012627, 0.72228451, 0.55478381, 0.87433583,\n",
       "       0.75094008, 0.77478071, 0.65935555, 0.67115201, 0.79106486,\n",
       "       0.7854953 , 0.75346584, 0.75139511, 0.73957509, 0.76286094,\n",
       "       0.71762184, 0.77214068, 0.67166942, 0.76869436, 0.78354976,\n",
       "       0.60968038, 0.72816011, 0.59471782, 0.69443829, 0.64254589,\n",
       "       0.87009108, 0.66566301, 0.7486012 , 0.75971487, 0.63503407,\n",
       "       0.74606915, 0.7308196 , 0.75621826, 0.84273946, 0.75765679,\n",
       "       0.77566529, 0.70404102, 0.90129352, 0.57960982, 0.67248662,\n",
       "       0.61385804, 0.64119956, 0.87038845, 0.5390444 , 0.59823683,\n",
       "       0.72021568, 0.52988212, 0.70724158, 0.79439312, 0.74152792,\n",
       "       0.57120215, 0.81286435, 0.66799866, 0.62308199, 0.90053076,\n",
       "       0.58291528, 0.8474968 , 0.66271712, 0.73112946, 0.86485338,\n",
       "       0.60498126, 0.78023292, 0.67005787, 0.5840975 , 0.70944584,\n",
       "       0.6714751 , 0.69066159, 0.67527205, 0.58245831, 0.65787245,\n",
       "       0.59096119, 0.69407534, 0.76797454, 0.70090227, 0.73769196,\n",
       "       0.68651055, 0.84995375, 0.56389506, 0.69003135, 0.73437447,\n",
       "       0.71174247, 0.86877799, 0.75361414, 0.79365187, 0.68443557,\n",
       "       0.85535489, 0.62795807, 0.7914742 , 0.80372501, 0.79986713,\n",
       "       0.78153314, 0.62508684, 0.63796568, 0.56363849, 0.66708047,\n",
       "       0.54901729, 0.54422138, 0.70690416, 0.87464271, 0.78813378,\n",
       "       0.87104225, 0.80261444, 0.85355247, 0.6730866 , 0.77074264,\n",
       "       0.69464238, 0.66958897, 0.78885779, 0.69718653, 0.60098245,\n",
       "       0.67596068, 0.81791166, 0.8166913 , 0.75496407, 0.86299919,\n",
       "       0.61162971, 0.63631029, 0.75824121, 0.59555217, 0.72076947,\n",
       "       0.64708902, 0.7448011 , 0.69651126, 0.69695489, 0.63837836,\n",
       "       0.78043606, 0.73725048, 0.87690893, 0.75534866, 0.676138  ,\n",
       "       0.77307077, 0.69743543, 0.70445141, 0.64734804, 0.79512817,\n",
       "       0.63957935, 0.78218053, 0.71317304, 0.78680709, 0.71561464,\n",
       "       0.56924096, 0.80119907, 0.75054157, 0.53030966, 0.66145044,\n",
       "       0.83025152, 0.76935163, 0.53227129, 0.72230722, 0.61181032,\n",
       "       0.65653829, 0.5690268 , 0.8199243 , 0.68544678, 0.67218684,\n",
       "       0.69900555, 0.72110127, 0.67026443, 0.76972011, 0.67036659,\n",
       "       0.67967305, 0.63985319, 0.6858793 , 0.74414943, 0.66449717,\n",
       "       0.77907019, 0.85939665, 0.85531387, 0.85195023, 0.83023663,\n",
       "       0.63469831, 0.8914406 , 0.88029612, 0.69791348, 0.69889922,\n",
       "       0.78135845, 0.56820913, 0.68548752, 0.68279019, 0.78057273,\n",
       "       0.69135417, 0.72815423, 0.65690223, 0.8023305 , 0.63201729,\n",
       "       0.70866696, 0.78692911, 0.6050301 , 0.77654293, 0.6626188 ,\n",
       "       0.66792669, 0.69384336, 0.675262  , 0.72190713, 0.62425901,\n",
       "       0.76792691, 0.62192144, 0.59730853, 0.78437262, 0.65629364,\n",
       "       0.89048261, 0.68572337, 0.67474046, 0.67700638, 0.67525445,\n",
       "       0.81915536, 0.74996515, 0.6715646 , 0.71472258, 0.57129172,\n",
       "       0.84272846, 0.74934643, 0.77558965, 0.67691433, 0.84651122,\n",
       "       0.7239104 , 0.77477503, 0.75859865, 0.78917712, 0.67716155,\n",
       "       0.55660928, 0.82075671, 0.7687909 , 0.5745696 , 0.75829813,\n",
       "       0.84708068, 0.66767176, 0.7709735 , 0.69588064, 0.66605766,\n",
       "       0.64977218, 0.70262687, 0.64928525, 0.6124434 , 0.77697108,\n",
       "       0.70228844, 0.83395756, 0.76303924, 0.59128907, 0.79678543,\n",
       "       0.78900978, 0.75447567, 0.6578496 , 0.75693475, 0.78084211,\n",
       "       0.8294178 , 0.86468354, 0.64700114, 0.58175831, 0.75254095,\n",
       "       0.54266876, 0.78701444, 0.69236132, 0.78714079, 0.59637158,\n",
       "       0.68232395, 0.81305305, 0.76641145, 0.6491831 , 0.62955491,\n",
       "       0.73028211, 0.69062491, 0.67599321, 0.87267489, 0.84187194,\n",
       "       0.73384009, 0.77498445, 0.8739959 , 0.71366518, 0.79576463,\n",
       "       0.83903642, 0.8641151 , 0.84994187, 0.6844969 , 0.83049968,\n",
       "       0.84947638, 0.80343619, 0.64295394, 0.59263438, 0.69359416])"
      ]
     },
     "execution_count": 79,
     "metadata": {},
     "output_type": "execute_result"
    }
   ],
   "source": [
    "svr.predict(xtrain)"
   ]
  },
  {
   "cell_type": "markdown",
   "id": "85d63e14",
   "metadata": {},
   "source": [
    "# Accuracy Score & MSE & MAE & R2 Score"
   ]
  },
  {
   "cell_type": "code",
   "execution_count": 80,
   "id": "9fdbd075",
   "metadata": {},
   "outputs": [
    {
     "data": {
      "text/plain": [
       "0.6540214290294392"
      ]
     },
     "execution_count": 80,
     "metadata": {},
     "output_type": "execute_result"
    }
   ],
   "source": [
    "svr.score(xtrain,ytrain)"
   ]
  },
  {
   "cell_type": "code",
   "execution_count": 81,
   "id": "007f52cd",
   "metadata": {},
   "outputs": [
    {
     "data": {
      "text/plain": [
       "0.6259251660611211"
      ]
     },
     "execution_count": 81,
     "metadata": {},
     "output_type": "execute_result"
    }
   ],
   "source": [
    "svr.score(xtest,ytest)"
   ]
  },
  {
   "cell_type": "code",
   "execution_count": 82,
   "id": "422a6aa6",
   "metadata": {},
   "outputs": [
    {
     "data": {
      "text/plain": [
       "0.6259251660611211"
      ]
     },
     "execution_count": 82,
     "metadata": {},
     "output_type": "execute_result"
    }
   ],
   "source": [
    "r2_score(ytest,svr.predict(xtest))"
   ]
  },
  {
   "cell_type": "code",
   "execution_count": 83,
   "id": "b644974c",
   "metadata": {},
   "outputs": [
    {
     "data": {
      "text/plain": [
       "0.008515148572691571"
      ]
     },
     "execution_count": 83,
     "metadata": {},
     "output_type": "execute_result"
    }
   ],
   "source": [
    "mean_squared_error(ytest,svr.predict(xtest))"
   ]
  },
  {
   "cell_type": "code",
   "execution_count": 84,
   "id": "37caab4c",
   "metadata": {},
   "outputs": [
    {
     "data": {
      "text/plain": [
       "0.07392618746289376"
      ]
     },
     "execution_count": 84,
     "metadata": {},
     "output_type": "execute_result"
    }
   ],
   "source": [
    "mean_absolute_error(ytest,svr.predict(xtest))"
   ]
  },
  {
   "cell_type": "code",
   "execution_count": null,
   "id": "75a1a78a",
   "metadata": {},
   "outputs": [],
   "source": []
  },
  {
   "cell_type": "markdown",
   "id": "ec692581",
   "metadata": {},
   "source": [
    "# KNeighborsRegressor"
   ]
  },
  {
   "cell_type": "code",
   "execution_count": 85,
   "id": "78e1780c",
   "metadata": {},
   "outputs": [],
   "source": [
    "from sklearn.neighbors import KNeighborsRegressor"
   ]
  },
  {
   "cell_type": "code",
   "execution_count": 86,
   "id": "1abae40d",
   "metadata": {},
   "outputs": [],
   "source": [
    "knn = KNeighborsRegressor()"
   ]
  },
  {
   "cell_type": "code",
   "execution_count": 87,
   "id": "75b23673",
   "metadata": {},
   "outputs": [
    {
     "data": {
      "text/plain": [
       "KNeighborsRegressor()"
      ]
     },
     "execution_count": 87,
     "metadata": {},
     "output_type": "execute_result"
    }
   ],
   "source": [
    "knn.fit(xtrain,ytrain)"
   ]
  },
  {
   "cell_type": "code",
   "execution_count": 88,
   "id": "899361ad",
   "metadata": {},
   "outputs": [
    {
     "data": {
      "text/plain": [
       "array([[0.644],\n",
       "       [0.712],\n",
       "       [0.936],\n",
       "       [0.794],\n",
       "       [0.49 ],\n",
       "       [0.936],\n",
       "       [0.466],\n",
       "       [0.48 ],\n",
       "       [0.602],\n",
       "       [0.804],\n",
       "       [0.742],\n",
       "       [0.926],\n",
       "       [0.678],\n",
       "       [0.858],\n",
       "       [0.688],\n",
       "       [0.686],\n",
       "       [0.688],\n",
       "       [0.466],\n",
       "       [0.724],\n",
       "       [0.926],\n",
       "       [0.616],\n",
       "       [0.688],\n",
       "       [0.728],\n",
       "       [0.474],\n",
       "       [0.932],\n",
       "       [0.724],\n",
       "       [0.736],\n",
       "       [0.594],\n",
       "       [0.676],\n",
       "       [0.766],\n",
       "       [0.814],\n",
       "       [0.942],\n",
       "       [0.72 ],\n",
       "       [0.554],\n",
       "       [0.716],\n",
       "       [0.648],\n",
       "       [0.776],\n",
       "       [0.668],\n",
       "       [0.668],\n",
       "       [0.896],\n",
       "       [0.714],\n",
       "       [0.722],\n",
       "       [0.812],\n",
       "       [0.936],\n",
       "       [0.828],\n",
       "       [0.83 ],\n",
       "       [0.916],\n",
       "       [0.708],\n",
       "       [0.874],\n",
       "       [0.822],\n",
       "       [0.868],\n",
       "       [0.68 ],\n",
       "       [0.786],\n",
       "       [0.932],\n",
       "       [0.662],\n",
       "       [0.62 ],\n",
       "       [0.608],\n",
       "       [0.852],\n",
       "       [0.42 ],\n",
       "       [0.86 ],\n",
       "       [0.634],\n",
       "       [0.68 ],\n",
       "       [0.636],\n",
       "       [0.49 ],\n",
       "       [0.602],\n",
       "       [0.708],\n",
       "       [0.54 ],\n",
       "       [0.852],\n",
       "       [0.824],\n",
       "       [0.73 ],\n",
       "       [0.698],\n",
       "       [0.82 ],\n",
       "       [0.91 ],\n",
       "       [0.826],\n",
       "       [0.512],\n",
       "       [0.728],\n",
       "       [0.714],\n",
       "       [0.542],\n",
       "       [0.902],\n",
       "       [0.734],\n",
       "       [0.768],\n",
       "       [0.72 ],\n",
       "       [0.936],\n",
       "       [0.712],\n",
       "       [0.628],\n",
       "       [0.656],\n",
       "       [0.814],\n",
       "       [0.732],\n",
       "       [0.93 ],\n",
       "       [0.714],\n",
       "       [0.514],\n",
       "       [0.832],\n",
       "       [0.526],\n",
       "       [0.734],\n",
       "       [0.64 ],\n",
       "       [0.644],\n",
       "       [0.736],\n",
       "       [0.718],\n",
       "       [0.56 ],\n",
       "       [0.822],\n",
       "       [0.65 ],\n",
       "       [0.67 ],\n",
       "       [0.698],\n",
       "       [0.806],\n",
       "       [0.694],\n",
       "       [0.62 ],\n",
       "       [0.582],\n",
       "       [0.642],\n",
       "       [0.658],\n",
       "       [0.646],\n",
       "       [0.634],\n",
       "       [0.674],\n",
       "       [0.512],\n",
       "       [0.564],\n",
       "       [0.828],\n",
       "       [0.626],\n",
       "       [0.514],\n",
       "       [0.926],\n",
       "       [0.766],\n",
       "       [0.726]])"
      ]
     },
     "execution_count": 88,
     "metadata": {},
     "output_type": "execute_result"
    }
   ],
   "source": [
    "knn.predict(xtest)"
   ]
  },
  {
   "cell_type": "markdown",
   "id": "074a57ec",
   "metadata": {},
   "source": [
    "# Accuracy Score & MSE & MAE & R2 Score"
   ]
  },
  {
   "cell_type": "code",
   "execution_count": 89,
   "id": "78a9953b",
   "metadata": {},
   "outputs": [
    {
     "data": {
      "text/plain": [
       "0.8103011973385356"
      ]
     },
     "execution_count": 89,
     "metadata": {},
     "output_type": "execute_result"
    }
   ],
   "source": [
    "knn.score(xtrain,ytrain)"
   ]
  },
  {
   "cell_type": "code",
   "execution_count": 90,
   "id": "b1c28f16",
   "metadata": {},
   "outputs": [
    {
     "data": {
      "text/plain": [
       "0.7115361523705392"
      ]
     },
     "execution_count": 90,
     "metadata": {},
     "output_type": "execute_result"
    }
   ],
   "source": [
    "knn.score(xtest,ytest)"
   ]
  },
  {
   "cell_type": "code",
   "execution_count": 91,
   "id": "e92c2766",
   "metadata": {},
   "outputs": [
    {
     "data": {
      "text/plain": [
       "0.7115361523705392"
      ]
     },
     "execution_count": 91,
     "metadata": {},
     "output_type": "execute_result"
    }
   ],
   "source": [
    "r2_score(ytest,knn.predict(xtest))"
   ]
  },
  {
   "cell_type": "code",
   "execution_count": 92,
   "id": "d88116c0",
   "metadata": {},
   "outputs": [
    {
     "data": {
      "text/plain": [
       "0.006566366666666666"
      ]
     },
     "execution_count": 92,
     "metadata": {},
     "output_type": "execute_result"
    }
   ],
   "source": [
    "mean_squared_error(ytest,knn.predict(xtest))"
   ]
  },
  {
   "cell_type": "code",
   "execution_count": 93,
   "id": "ada871c1",
   "metadata": {},
   "outputs": [
    {
     "data": {
      "text/plain": [
       "0.060349999999999994"
      ]
     },
     "execution_count": 93,
     "metadata": {},
     "output_type": "execute_result"
    }
   ],
   "source": [
    "mean_absolute_error(ytest,knn.predict(xtest))"
   ]
  },
  {
   "cell_type": "code",
   "execution_count": null,
   "id": "98a3106d",
   "metadata": {},
   "outputs": [],
   "source": []
  },
  {
   "cell_type": "markdown",
   "id": "0f8e7400",
   "metadata": {},
   "source": [
    "# AdaBoostRegressor"
   ]
  },
  {
   "cell_type": "code",
   "execution_count": 94,
   "id": "a978b350",
   "metadata": {},
   "outputs": [],
   "source": [
    "from sklearn.ensemble import AdaBoostRegressor"
   ]
  },
  {
   "cell_type": "code",
   "execution_count": 95,
   "id": "b53e5fe9",
   "metadata": {},
   "outputs": [],
   "source": [
    "abr =  AdaBoostRegressor()"
   ]
  },
  {
   "cell_type": "code",
   "execution_count": 96,
   "id": "79bb9228",
   "metadata": {},
   "outputs": [
    {
     "data": {
      "text/plain": [
       "AdaBoostRegressor()"
      ]
     },
     "execution_count": 96,
     "metadata": {},
     "output_type": "execute_result"
    }
   ],
   "source": [
    "abr.fit(xtrain,ytrain)"
   ]
  },
  {
   "cell_type": "code",
   "execution_count": 97,
   "id": "38a8280d",
   "metadata": {},
   "outputs": [
    {
     "data": {
      "text/plain": [
       "array([0.6365    , 0.69657143, 0.89971429, 0.801     , 0.49513514,\n",
       "       0.90230769, 0.55085714, 0.49513514, 0.67695238, 0.84238095,\n",
       "       0.70195804, 0.89971429, 0.52279412, 0.84074074, 0.69466667,\n",
       "       0.70299065, 0.66081081, 0.50645161, 0.68206612, 0.92142857,\n",
       "       0.56733333, 0.65895833, 0.70195804, 0.50645161, 0.90928571,\n",
       "       0.76461538, 0.68992537, 0.55547945, 0.64992481, 0.79428571,\n",
       "       0.76247706, 0.90928571, 0.64343137, 0.4292    , 0.6719469 ,\n",
       "       0.68992537, 0.70299065, 0.6625    , 0.55547945, 0.89971429,\n",
       "       0.69647059, 0.625     , 0.732     , 0.90928571, 0.82461538,\n",
       "       0.82461538, 0.90928571, 0.67695238, 0.88789474, 0.82924242,\n",
       "       0.88714286, 0.69616541, 0.75633333, 0.9105    , 0.55547945,\n",
       "       0.63346939, 0.68206612, 0.82461538, 0.54225806, 0.8216    ,\n",
       "       0.68992537, 0.61822222, 0.695     , 0.49513514, 0.62896   ,\n",
       "       0.6625    , 0.61970588, 0.82461538, 0.83857143, 0.76461538,\n",
       "       0.70299065, 0.82666667, 0.88789474, 0.82217391, 0.525625  ,\n",
       "       0.69647059, 0.70130435, 0.5025    , 0.828125  , 0.73721311,\n",
       "       0.71461538, 0.72      , 0.92142857, 0.69647059, 0.54839506,\n",
       "       0.7047482 , 0.71913043, 0.71461538, 0.89916667, 0.64343137,\n",
       "       0.61970588, 0.82461538, 0.534     , 0.7047482 , 0.6120362 ,\n",
       "       0.63346939, 0.70513274, 0.71083333, 0.51430233, 0.70130435,\n",
       "       0.66081081, 0.69699248, 0.70513274, 0.7825    , 0.70299065,\n",
       "       0.57857143, 0.665     , 0.55844444, 0.6365    , 0.62060606,\n",
       "       0.69616541, 0.56183099, 0.50645161, 0.6120362 , 0.80147059,\n",
       "       0.59486486, 0.50645161, 0.8708    , 0.71913043, 0.80575758])"
      ]
     },
     "execution_count": 97,
     "metadata": {},
     "output_type": "execute_result"
    }
   ],
   "source": [
    "abr.predict(xtest)"
   ]
  },
  {
   "cell_type": "markdown",
   "id": "9aabb4d3",
   "metadata": {},
   "source": [
    "# Accuracy Score & MSE & MAE & R2 Score"
   ]
  },
  {
   "cell_type": "code",
   "execution_count": 98,
   "id": "5e8cb187",
   "metadata": {},
   "outputs": [
    {
     "data": {
      "text/plain": [
       "0.8205105378429902"
      ]
     },
     "execution_count": 98,
     "metadata": {},
     "output_type": "execute_result"
    }
   ],
   "source": [
    "abr.score(xtrain,ytrain)"
   ]
  },
  {
   "cell_type": "code",
   "execution_count": 99,
   "id": "d34ef258",
   "metadata": {},
   "outputs": [
    {
     "data": {
      "text/plain": [
       "0.7471059570653983"
      ]
     },
     "execution_count": 99,
     "metadata": {},
     "output_type": "execute_result"
    }
   ],
   "source": [
    "abr.score(xtest,ytest)"
   ]
  },
  {
   "cell_type": "code",
   "execution_count": 100,
   "id": "66492c0b",
   "metadata": {},
   "outputs": [
    {
     "data": {
      "text/plain": [
       "0.7471059570653983"
      ]
     },
     "execution_count": 100,
     "metadata": {},
     "output_type": "execute_result"
    }
   ],
   "source": [
    "r2_score(ytest,abr.predict(xtest))"
   ]
  },
  {
   "cell_type": "code",
   "execution_count": 101,
   "id": "b23873ea",
   "metadata": {},
   "outputs": [
    {
     "data": {
      "text/plain": [
       "0.005756683297996545"
      ]
     },
     "execution_count": 101,
     "metadata": {},
     "output_type": "execute_result"
    }
   ],
   "source": [
    "mean_squared_error(ytest,abr.predict(xtest))"
   ]
  },
  {
   "cell_type": "code",
   "execution_count": 102,
   "id": "362bdf50",
   "metadata": {},
   "outputs": [
    {
     "data": {
      "text/plain": [
       "0.05981311568478024"
      ]
     },
     "execution_count": 102,
     "metadata": {},
     "output_type": "execute_result"
    }
   ],
   "source": [
    "mean_absolute_error(ytest,abr.predict(xtest))"
   ]
  },
  {
   "cell_type": "code",
   "execution_count": null,
   "id": "eda978b2",
   "metadata": {},
   "outputs": [],
   "source": []
  },
  {
   "cell_type": "markdown",
   "id": "58d06cd3",
   "metadata": {},
   "source": [
    "# GradientBoostingRegressor"
   ]
  },
  {
   "cell_type": "code",
   "execution_count": 103,
   "id": "01f6c1fd",
   "metadata": {},
   "outputs": [],
   "source": [
    "from sklearn.ensemble import GradientBoostingRegressor"
   ]
  },
  {
   "cell_type": "code",
   "execution_count": 104,
   "id": "b7a935d8",
   "metadata": {},
   "outputs": [],
   "source": [
    "gbr = GradientBoostingRegressor()"
   ]
  },
  {
   "cell_type": "code",
   "execution_count": 105,
   "id": "faa16115",
   "metadata": {},
   "outputs": [
    {
     "data": {
      "text/plain": [
       "GradientBoostingRegressor()"
      ]
     },
     "execution_count": 105,
     "metadata": {},
     "output_type": "execute_result"
    }
   ],
   "source": [
    "gbr.fit(xtrain,ytrain)"
   ]
  },
  {
   "cell_type": "code",
   "execution_count": 106,
   "id": "dfc16064",
   "metadata": {},
   "outputs": [
    {
     "data": {
      "text/plain": [
       "array([0.64855348, 0.72827136, 0.94190823, 0.8042742 , 0.61066177,\n",
       "       0.92958483, 0.587707  , 0.47110635, 0.67641147, 0.87541321,\n",
       "       0.72951751, 0.93619242, 0.56269758, 0.9213893 , 0.71158998,\n",
       "       0.68335083, 0.69413486, 0.53435315, 0.70622594, 0.9571184 ,\n",
       "       0.60920997, 0.69660779, 0.70122974, 0.52980096, 0.93620694,\n",
       "       0.75853727, 0.71417456, 0.5992848 , 0.69649403, 0.80730636,\n",
       "       0.80433778, 0.94573782, 0.66837434, 0.40458087, 0.71040206,\n",
       "       0.63636141, 0.69106936, 0.69269965, 0.59500508, 0.86136295,\n",
       "       0.73963865, 0.66918611, 0.75998647, 0.94427666, 0.87003262,\n",
       "       0.84002371, 0.94948398, 0.68894281, 0.90869917, 0.89630938,\n",
       "       0.90522091, 0.72488364, 0.79292888, 0.94416176, 0.57666555,\n",
       "       0.60885023, 0.68947404, 0.86498764, 0.61944452, 0.8740184 ,\n",
       "       0.65685397, 0.61698426, 0.70573811, 0.53793504, 0.65874976,\n",
       "       0.69266561, 0.65148953, 0.82437142, 0.88872716, 0.72080468,\n",
       "       0.70572123, 0.78670781, 0.9165504 , 0.84775268, 0.54966024,\n",
       "       0.71660415, 0.70259229, 0.53376699, 0.85214685, 0.75603084,\n",
       "       0.75915588, 0.73618831, 0.95802305, 0.71741395, 0.60231638,\n",
       "       0.68331687, 0.77301982, 0.73814217, 0.92991513, 0.59789145,\n",
       "       0.62358107, 0.82528947, 0.57630146, 0.73320941, 0.62591203,\n",
       "       0.64638094, 0.74048243, 0.75545554, 0.54861538, 0.76693859,\n",
       "       0.69949667, 0.68147304, 0.72619322, 0.78734472, 0.74093883,\n",
       "       0.60344449, 0.66117434, 0.53404501, 0.63706158, 0.66046766,\n",
       "       0.67882494, 0.62604738, 0.55899497, 0.60058408, 0.81753591,\n",
       "       0.65215341, 0.46058837, 0.9210142 , 0.76915097, 0.78478059])"
      ]
     },
     "execution_count": 106,
     "metadata": {},
     "output_type": "execute_result"
    }
   ],
   "source": [
    "gbr.predict(xtest)"
   ]
  },
  {
   "cell_type": "markdown",
   "id": "e0fca8e5",
   "metadata": {},
   "source": [
    "# Accuracy Score & MSE & MAE & R2 Score"
   ]
  },
  {
   "cell_type": "code",
   "execution_count": 107,
   "id": "872c5886",
   "metadata": {},
   "outputs": [
    {
     "data": {
      "text/plain": [
       "0.9328033389260003"
      ]
     },
     "execution_count": 107,
     "metadata": {},
     "output_type": "execute_result"
    }
   ],
   "source": [
    "gbr.score(xtrain,ytrain)"
   ]
  },
  {
   "cell_type": "code",
   "execution_count": 108,
   "id": "30e9f706",
   "metadata": {},
   "outputs": [
    {
     "data": {
      "text/plain": [
       "0.7561827428025305"
      ]
     },
     "execution_count": 108,
     "metadata": {},
     "output_type": "execute_result"
    }
   ],
   "source": [
    "gbr.score(xtest,ytest)"
   ]
  },
  {
   "cell_type": "code",
   "execution_count": 109,
   "id": "68860b0a",
   "metadata": {},
   "outputs": [
    {
     "data": {
      "text/plain": [
       "0.7561827428025305"
      ]
     },
     "execution_count": 109,
     "metadata": {},
     "output_type": "execute_result"
    }
   ],
   "source": [
    "r2_score(ytest,gbr.predict(xtest))"
   ]
  },
  {
   "cell_type": "code",
   "execution_count": 110,
   "id": "ae661b3e",
   "metadata": {},
   "outputs": [
    {
     "data": {
      "text/plain": [
       "0.005550066407198707"
      ]
     },
     "execution_count": 110,
     "metadata": {},
     "output_type": "execute_result"
    }
   ],
   "source": [
    "mean_squared_error(ytest,gbr.predict(xtest))"
   ]
  },
  {
   "cell_type": "code",
   "execution_count": 111,
   "id": "d14c97bc",
   "metadata": {},
   "outputs": [
    {
     "data": {
      "text/plain": [
       "0.05236517748560009"
      ]
     },
     "execution_count": 111,
     "metadata": {},
     "output_type": "execute_result"
    }
   ],
   "source": [
    "mean_absolute_error(ytest,gbr.predict(xtest))"
   ]
  },
  {
   "cell_type": "code",
   "execution_count": null,
   "id": "c1665d7d",
   "metadata": {},
   "outputs": [],
   "source": []
  },
  {
   "cell_type": "markdown",
   "id": "f22b942f",
   "metadata": {},
   "source": [
    "# Best Model Identifying"
   ]
  },
  {
   "cell_type": "code",
   "execution_count": 112,
   "id": "1f01f9cf",
   "metadata": {},
   "outputs": [],
   "source": [
    "LR = r2_score(ytest,lr.predict(xtest))\n",
    "DT = r2_score(ytest,dtr.predict(xtest))\n",
    "RF = r2_score(ytest,rfr.predict(xtest))\n",
    "SVM = r2_score(ytest,svr.predict(xtest))\n",
    "KNN = r2_score(ytest,knn.predict(xtest))\n",
    "ABR = r2_score(ytest,abr.predict(xtest))\n",
    "GBR = r2_score(ytest,gbr.predict(xtest))"
   ]
  },
  {
   "cell_type": "code",
   "execution_count": 113,
   "id": "9cb29643",
   "metadata": {},
   "outputs": [
    {
     "name": "stdout",
     "output_type": "stream",
     "text": [
      "0.7955991554684619\n",
      "0.5733249051833123\n",
      "0.7804377260590918\n",
      "0.6259251660611211\n",
      "0.7115361523705392\n",
      "0.7471059570653983\n",
      "0.7561827428025305\n"
     ]
    }
   ],
   "source": [
    "print(LR)\n",
    "print(DT)\n",
    "print(RF)\n",
    "print(SVM)\n",
    "print(KNN)\n",
    "print(ABR)\n",
    "print(GBR)"
   ]
  },
  {
   "cell_type": "code",
   "execution_count": 114,
   "id": "34530dbc",
   "metadata": {},
   "outputs": [],
   "source": [
    "final_data = pd.DataFrame({\"Models\":[\"LR\",\"DT\",\"RF\",\"SVM\",\"KNN\",\"ABR\",\"GBR\"],\"r2\":[LR,DT,RF,SVM,KNN,ABR,GBR]})"
   ]
  },
  {
   "cell_type": "code",
   "execution_count": 115,
   "id": "79d4aa7e",
   "metadata": {},
   "outputs": [
    {
     "data": {
      "text/html": [
       "<div>\n",
       "<style scoped>\n",
       "    .dataframe tbody tr th:only-of-type {\n",
       "        vertical-align: middle;\n",
       "    }\n",
       "\n",
       "    .dataframe tbody tr th {\n",
       "        vertical-align: top;\n",
       "    }\n",
       "\n",
       "    .dataframe thead th {\n",
       "        text-align: right;\n",
       "    }\n",
       "</style>\n",
       "<table border=\"1\" class=\"dataframe\">\n",
       "  <thead>\n",
       "    <tr style=\"text-align: right;\">\n",
       "      <th></th>\n",
       "      <th>Models</th>\n",
       "      <th>r2</th>\n",
       "    </tr>\n",
       "  </thead>\n",
       "  <tbody>\n",
       "    <tr>\n",
       "      <th>0</th>\n",
       "      <td>LR</td>\n",
       "      <td>0.795599</td>\n",
       "    </tr>\n",
       "    <tr>\n",
       "      <th>1</th>\n",
       "      <td>DT</td>\n",
       "      <td>0.573325</td>\n",
       "    </tr>\n",
       "    <tr>\n",
       "      <th>2</th>\n",
       "      <td>RF</td>\n",
       "      <td>0.780438</td>\n",
       "    </tr>\n",
       "    <tr>\n",
       "      <th>3</th>\n",
       "      <td>SVM</td>\n",
       "      <td>0.625925</td>\n",
       "    </tr>\n",
       "    <tr>\n",
       "      <th>4</th>\n",
       "      <td>KNN</td>\n",
       "      <td>0.711536</td>\n",
       "    </tr>\n",
       "    <tr>\n",
       "      <th>5</th>\n",
       "      <td>ABR</td>\n",
       "      <td>0.747106</td>\n",
       "    </tr>\n",
       "    <tr>\n",
       "      <th>6</th>\n",
       "      <td>GBR</td>\n",
       "      <td>0.756183</td>\n",
       "    </tr>\n",
       "  </tbody>\n",
       "</table>\n",
       "</div>"
      ],
      "text/plain": [
       "  Models        r2\n",
       "0     LR  0.795599\n",
       "1     DT  0.573325\n",
       "2     RF  0.780438\n",
       "3    SVM  0.625925\n",
       "4    KNN  0.711536\n",
       "5    ABR  0.747106\n",
       "6    GBR  0.756183"
      ]
     },
     "execution_count": 115,
     "metadata": {},
     "output_type": "execute_result"
    }
   ],
   "source": [
    "final_data"
   ]
  },
  {
   "cell_type": "code",
   "execution_count": 116,
   "id": "7f89c445",
   "metadata": {},
   "outputs": [
    {
     "data": {
      "text/plain": [
       "<AxesSubplot:xlabel='Models', ylabel='r2'>"
      ]
     },
     "execution_count": 116,
     "metadata": {},
     "output_type": "execute_result"
    },
    {
     "data": {
      "image/png": "[encoded data removed]",
      "text/plain": [
       "<Figure size 640x480 with 1 Axes>"
      ]
     },
     "metadata": {},
     "output_type": "display_data"
    }
   ],
   "source": [
    "sns.barplot(final_data[\"Models\"],final_data[\"r2\"])"
   ]
  },
  {
   "cell_type": "code",
   "execution_count": null,
   "id": "d52e3052",
   "metadata": {},
   "outputs": [],
   "source": []
  },
  {
   "cell_type": "markdown",
   "id": "c34085d4",
   "metadata": {},
   "source": [
    "# Download Model"
   ]
  },
  {
   "cell_type": "code",
   "execution_count": 117,
   "id": "f0342897",
   "metadata": {},
   "outputs": [],
   "source": [
    "import pickle as pk"
   ]
  },
  {
   "cell_type": "code",
   "execution_count": 119,
   "id": "2371d19d",
   "metadata": {},
   "outputs": [],
   "source": [
    "pk.dump(lr,open(\"Admissin_Prediction\",\"wb\"))"
   ]
  },
  {
   "cell_type": "code",
   "execution_count": null,
   "id": "62418cbb",
   "metadata": {},
   "outputs": [],
   "source": []
  }
 ],
 "metadata": {
  "kernelspec": {
   "display_name": "Python 3 (ipykernel)",
   "language": "python",
   "name": "python3"
  },
  "language_info": {
   "codemirror_mode": {
    "name": "ipython",
    "version": 3
   },
   "file_extension": ".py",
   "mimetype": "text/x-python",
   "name": "python",
   "nbconvert_exporter": "python",
   "pygments_lexer": "ipython3",
   "version": "3.9.13"
  }
 },
 "nbformat": 4,
 "nbformat_minor": 5
}
